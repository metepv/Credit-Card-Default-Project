{
 "cells": [
  {
   "cell_type": "code",
   "execution_count": null,
   "id": "f8152c84",
   "metadata": {},
   "outputs": [],
   "source": [
    "#EEE 485: Statsitical Leaning and Data Analytics Term Project\n",
    "#Logistic Regression Algorithm Implementation"
   ]
  },
  {
   "cell_type": "code",
   "execution_count": 4,
   "id": "6736f161-17a5-4f3d-b8e2-339c1596b22a",
   "metadata": {
    "tags": []
   },
   "outputs": [],
   "source": [
    "import numpy as np\n",
    "import pandas as pd\n",
    "import time"
   ]
  },
  {
   "cell_type": "code",
   "execution_count": 5,
   "id": "5ed63727-5158-4ab2-8f49-6b961f4900c5",
   "metadata": {
    "tags": []
   },
   "outputs": [],
   "source": [
    "file_path = \"UCI_Credit_Card.csv\""
   ]
  },
  {
   "cell_type": "code",
   "execution_count": 6,
   "id": "cbff2c62-f115-4acc-89d5-247b166b239c",
   "metadata": {
    "tags": []
   },
   "outputs": [],
   "source": [
    "data = pd.read_csv(file_path)"
   ]
  },
  {
   "cell_type": "code",
   "execution_count": 8,
   "id": "a45d0b86-b86b-42bb-957e-a9dc0a7b88e1",
   "metadata": {
    "tags": []
   },
   "outputs": [
    {
     "name": "stdout",
     "output_type": "stream",
     "text": [
      "          ID  LIMIT_BAL  SEX  EDUCATION  MARRIAGE  AGE  PAY_0  PAY_2  PAY_3  \\\n",
      "0          1    20000.0    2          2         1   24      2      2     -1   \n",
      "1          2   120000.0    2          2         2   26     -1      2      0   \n",
      "2          3    90000.0    2          2         2   34      0      0      0   \n",
      "3          4    50000.0    2          2         1   37      0      0      0   \n",
      "4          5    50000.0    1          2         1   57     -1      0     -1   \n",
      "...      ...        ...  ...        ...       ...  ...    ...    ...    ...   \n",
      "29995  29996   220000.0    1          3         1   39      0      0      0   \n",
      "29996  29997   150000.0    1          3         2   43     -1     -1     -1   \n",
      "29997  29998    30000.0    1          2         2   37      4      3      2   \n",
      "29998  29999    80000.0    1          3         1   41      1     -1      0   \n",
      "29999  30000    50000.0    1          2         1   46      0      0      0   \n",
      "\n",
      "       PAY_4  ...  BILL_AMT4  BILL_AMT5  BILL_AMT6  PAY_AMT1  PAY_AMT2  \\\n",
      "0         -1  ...        0.0        0.0        0.0       0.0     689.0   \n",
      "1          0  ...     3272.0     3455.0     3261.0       0.0    1000.0   \n",
      "2          0  ...    14331.0    14948.0    15549.0    1518.0    1500.0   \n",
      "3          0  ...    28314.0    28959.0    29547.0    2000.0    2019.0   \n",
      "4          0  ...    20940.0    19146.0    19131.0    2000.0   36681.0   \n",
      "...      ...  ...        ...        ...        ...       ...       ...   \n",
      "29995      0  ...    88004.0    31237.0    15980.0    8500.0   20000.0   \n",
      "29996     -1  ...     8979.0     5190.0        0.0    1837.0    3526.0   \n",
      "29997     -1  ...    20878.0    20582.0    19357.0       0.0       0.0   \n",
      "29998      0  ...    52774.0    11855.0    48944.0   85900.0    3409.0   \n",
      "29999      0  ...    36535.0    32428.0    15313.0    2078.0    1800.0   \n",
      "\n",
      "       PAY_AMT3  PAY_AMT4  PAY_AMT5  PAY_AMT6  default.payment.next.month  \n",
      "0           0.0       0.0       0.0       0.0                           1  \n",
      "1        1000.0    1000.0       0.0    2000.0                           1  \n",
      "2        1000.0    1000.0    1000.0    5000.0                           0  \n",
      "3        1200.0    1100.0    1069.0    1000.0                           0  \n",
      "4       10000.0    9000.0     689.0     679.0                           0  \n",
      "...         ...       ...       ...       ...                         ...  \n",
      "29995    5003.0    3047.0    5000.0    1000.0                           0  \n",
      "29996    8998.0     129.0       0.0       0.0                           0  \n",
      "29997   22000.0    4200.0    2000.0    3100.0                           1  \n",
      "29998    1178.0    1926.0   52964.0    1804.0                           1  \n",
      "29999    1430.0    1000.0    1000.0    1000.0                           1  \n",
      "\n",
      "[30000 rows x 25 columns]\n"
     ]
    }
   ],
   "source": [
    "print(data)"
   ]
  },
  {
   "cell_type": "code",
   "execution_count": 9,
   "id": "092745e7-86d4-41b9-85a7-9a987fdf9a2d",
   "metadata": {
    "tags": []
   },
   "outputs": [],
   "source": [
    "column_names = data.columns"
   ]
  },
  {
   "cell_type": "code",
   "execution_count": 10,
   "id": "06abe2d0-633a-4567-b9fb-59da7a48b70e",
   "metadata": {
    "tags": []
   },
   "outputs": [
    {
     "name": "stdout",
     "output_type": "stream",
     "text": [
      "Index(['ID', 'LIMIT_BAL', 'SEX', 'EDUCATION', 'MARRIAGE', 'AGE', 'PAY_0',\n",
      "       'PAY_2', 'PAY_3', 'PAY_4', 'PAY_5', 'PAY_6', 'BILL_AMT1', 'BILL_AMT2',\n",
      "       'BILL_AMT3', 'BILL_AMT4', 'BILL_AMT5', 'BILL_AMT6', 'PAY_AMT1',\n",
      "       'PAY_AMT2', 'PAY_AMT3', 'PAY_AMT4', 'PAY_AMT5', 'PAY_AMT6',\n",
      "       'default.payment.next.month'],\n",
      "      dtype='object')\n"
     ]
    }
   ],
   "source": [
    "print(column_names)"
   ]
  },
  {
   "cell_type": "code",
   "execution_count": 11,
   "id": "edaaf0dc-e33c-4052-b8ba-a024992ad348",
   "metadata": {
    "tags": []
   },
   "outputs": [],
   "source": [
    "X1 =  data['LIMIT_BAL'].values #\n",
    "X2 =  data['SEX'].values\n",
    "X3 =  data['EDUCATION'].values\n",
    "X4 =  data['MARRIAGE'].values\n",
    "X5 =  data['AGE'].values       #\n",
    "X6 =  data['PAY_0'].values\n",
    "X7 =  data['PAY_2'].values\n",
    "X8 =  data['PAY_3'].values\n",
    "X9 =  data['PAY_4'].values\n",
    "X10 = data['PAY_5'].values\n",
    "X11 = data['PAY_6'].values\n",
    "X12 = data['BILL_AMT1'].values #\n",
    "X13 = data['BILL_AMT2'].values #\n",
    "X14 = data['BILL_AMT3'].values #\n",
    "X15 = data['BILL_AMT4'].values #\n",
    "X16 = data['BILL_AMT5'].values #\n",
    "X17 = data['BILL_AMT6'].values #\n",
    "X18 = data['PAY_AMT1'].values  #\n",
    "X19 = data['PAY_AMT2'].values  #\n",
    "X20 = data['PAY_AMT3'].values  #\n",
    "X21 = data['PAY_AMT4'].values  #\n",
    "X22 = data['PAY_AMT5'].values  #\n",
    "X23 = data['PAY_AMT6'].values  #"
   ]
  },
  {
   "cell_type": "code",
   "execution_count": 108,
   "id": "b3cc61ee-54e1-46f2-b062-514a66de9d1d",
   "metadata": {
    "tags": []
   },
   "outputs": [],
   "source": [
    "def normalize(column_vector):\n",
    "    mean_value = np.mean(column_vector)\n",
    "    std_variance = np.std(column_vector)\n",
    "    normalized = (column_vector - mean_value)/std_variance\n",
    "    return normalized"
   ]
  },
  {
   "cell_type": "code",
   "execution_count": 109,
   "id": "ca3eeb05-b47b-40e3-bb19-be1d1358b8b7",
   "metadata": {
    "tags": []
   },
   "outputs": [
    {
     "name": "stdout",
     "output_type": "stream",
     "text": [
      "[[ 1.         -1.13672015  0.81016074 ... -0.30806256 -0.31413612\n",
      "  -0.29338206]\n",
      " [ 1.         -0.3659805   0.81016074 ... -0.24422965 -0.31413612\n",
      "  -0.18087821]\n",
      " [ 1.         -0.59720239  0.81016074 ... -0.24422965 -0.24868274\n",
      "  -0.01212243]\n",
      " ...\n",
      " [ 1.         -1.05964618 -1.23432296 ... -0.03996431 -0.18322937\n",
      "  -0.11900109]\n",
      " [ 1.         -0.67427636 -1.23432296 ... -0.18512036  3.15253642\n",
      "  -0.19190359]\n",
      " [ 1.         -0.90549825 -1.23432296 ... -0.24422965 -0.24868274\n",
      "  -0.23713013]]\n",
      "(30000, 24)\n"
     ]
    }
   ],
   "source": [
    "n = 30000\n",
    "p = 24\n",
    "ones = np.ones(n)\n",
    "ones = np.reshape(ones,(n,1))\n",
    "X = np.column_stack((ones,normalize(X1),normalize(X2),  normalize(X3), normalize(X4), normalize(X5), normalize(X6),\\\n",
    "                          normalize(X7),normalize(X8),  normalize(X9), normalize(X10),normalize(X11),normalize(X12),\\\n",
    "                          normalize(X13),normalize(X14),normalize(X15),normalize(X16),normalize(X17),\\\n",
    "                          normalize(X18),normalize(X19),normalize(X20),normalize(X21),normalize(X22),\\\n",
    "                          normalize(X23)))\n",
    "\n",
    "print(X)\n",
    "print(X.shape)"
   ]
  },
  {
   "cell_type": "code",
   "execution_count": 110,
   "id": "66ca4648-3f8f-48eb-b849-6e5f604123a8",
   "metadata": {
    "tags": []
   },
   "outputs": [],
   "source": [
    "Y = data['default.payment.next.month'].values"
   ]
  },
  {
   "cell_type": "code",
   "execution_count": 111,
   "id": "cabaf24c-2e14-47a5-9659-3b4f1d4a79f7",
   "metadata": {
    "tags": []
   },
   "outputs": [
    {
     "name": "stdout",
     "output_type": "stream",
     "text": [
      "(30000, 1)\n"
     ]
    }
   ],
   "source": [
    "Y = np.reshape(Y,(30000,1))\n",
    "print(Y.shape)"
   ]
  },
  {
   "cell_type": "code",
   "execution_count": 163,
   "id": "9727500c",
   "metadata": {},
   "outputs": [
    {
     "name": "stdout",
     "output_type": "stream",
     "text": [
      "(24, 1)\n"
     ]
    }
   ],
   "source": [
    "Beta = np.zeros((24,1))\n",
    "print(Beta.shape)"
   ]
  },
  {
   "cell_type": "code",
   "execution_count": 114,
   "id": "697ad8a7-46a4-41db-a532-8e2b516da604",
   "metadata": {
    "tags": []
   },
   "outputs": [
    {
     "name": "stdout",
     "output_type": "stream",
     "text": [
      "(30000, 1)\n",
      "(30000, 1)\n"
     ]
    }
   ],
   "source": [
    "Pi_vector = np.exp(np.dot(X,Beta))/(ones + np.exp(np.dot(X,Beta)))\n",
    "Pi_complement = ones - Pi_vector\n",
    "print(Pi_vector.shape)\n",
    "print(Pi_complement.shape)"
   ]
  },
  {
   "cell_type": "code",
   "execution_count": 115,
   "id": "6e6dc9c7-3ab7-4f1b-8b46-8bdbe0f8d558",
   "metadata": {
    "tags": []
   },
   "outputs": [
    {
     "name": "stdout",
     "output_type": "stream",
     "text": [
      "(30000,)\n",
      "[[0.25 0.   0.   ... 0.   0.   0.  ]\n",
      " [0.   0.25 0.   ... 0.   0.   0.  ]\n",
      " [0.   0.   0.25 ... 0.   0.   0.  ]\n",
      " ...\n",
      " [0.   0.   0.   ... 0.25 0.   0.  ]\n",
      " [0.   0.   0.   ... 0.   0.25 0.  ]\n",
      " [0.   0.   0.   ... 0.   0.   0.25]]\n",
      "(30000, 30000)\n"
     ]
    }
   ],
   "source": [
    "W_matrix = np.eye(X.shape[0])\n",
    "diagonal_indices = np.diag_indices_from(W_matrix)\n",
    "diagonal_values = np.multiply(Pi_vector, Pi_complement)\n",
    "diagonal_values = diagonal_values.flatten()\n",
    "print(diagonal_values.shape)\n",
    "W_matrix[diagonal_indices] = diagonal_values\n",
    "print(W_matrix)\n",
    "print(W_matrix.shape)"
   ]
  },
  {
   "cell_type": "code",
   "execution_count": 153,
   "id": "2a0c1353-2738-494e-865b-f0037611de18",
   "metadata": {
    "tags": []
   },
   "outputs": [],
   "source": [
    "def newton_raphson(Y,X_matrix,Beta):\n",
    "\n",
    "    error = 0.001\n",
    "    ones = np.ones(X_matrix.shape[0])\n",
    "    ones = np.reshape(ones,(X_matrix.shape[0],1))\n",
    "    Beta_new = Beta\n",
    "    Beta_old = Beta\n",
    "    \n",
    "    max_iteration = 20\n",
    "    count = 0\n",
    "    \n",
    "    while count != max_iteration:\n",
    "\n",
    "        Beta_old2 = Beta_old\n",
    "        \n",
    "        # Calculate Pi_vector\n",
    "        #Pi_vector = np.exp(np.dot(X_matrix, Beta)) / (1 + np.exp(np.dot(X_matrix, Beta)))\n",
    "        Pi_vector = 1/ (1 + np.exp(-np.dot(X_matrix, Beta_old)))\n",
    "        Pi_complement = ones - Pi_vector\n",
    "        \n",
    "        # Update W_matrix\n",
    "        W_matrix = np.eye(X_matrix.shape[0])\n",
    "        diagonal_indices = np.diag_indices_from(W_matrix)\n",
    "        diagonal_values = np.multiply(Pi_vector, Pi_complement)\n",
    "        diagonal_values = diagonal_values.flatten()\n",
    "        W_matrix[diagonal_indices] = diagonal_values\n",
    "        \n",
    "        # Update Beta_new using Newton-Raphson update rule\n",
    "        X_t = np.transpose(X_matrix) \n",
    "        A = np.dot(np.dot(X_t, W_matrix), X_matrix)\n",
    "        A_inv = np.linalg.inv(A)\n",
    "        \n",
    "        Beta_new = Beta_old + np.dot(np.dot(A_inv, X_t), (Y - Pi_vector))\n",
    "        \n",
    "        Beta_old = Beta_new\n",
    "        count += 1\n",
    "        \n",
    "        if np.all(Beta_new - Beta_old) < error:\n",
    "            break\n",
    "\n",
    "    print(count)\n",
    "    return Beta_new\n"
   ]
  },
  {
   "cell_type": "code",
   "execution_count": 154,
   "id": "2c2414c6-ec4f-4723-a985-099b8292610b",
   "metadata": {
    "tags": []
   },
   "outputs": [
    {
     "name": "stdout",
     "output_type": "stream",
     "text": [
      "1\n",
      "[[-1.1152    ]\n",
      " [-0.0469843 ]\n",
      " [-0.02843041]\n",
      " [-0.04782275]\n",
      " [-0.04973559]\n",
      " [ 0.05196965]\n",
      " [ 0.43020863]\n",
      " [ 0.093169  ]\n",
      " [ 0.05588879]\n",
      " [ 0.01572184]\n",
      " [ 0.02583352]\n",
      " [ 0.00364319]\n",
      " [-0.1833402 ]\n",
      " [ 0.04518122]\n",
      " [ 0.00833649]\n",
      " [-0.01748152]\n",
      " [-0.00498218]\n",
      " [ 0.0274562 ]\n",
      " [-0.04927105]\n",
      " [-0.01927943]\n",
      " [-0.00202374]\n",
      " [-0.01579605]\n",
      " [-0.0208367 ]\n",
      " [-0.00694716]]\n"
     ]
    }
   ],
   "source": [
    "result = newton_raphson(Y,X,Beta)\n",
    "print(result)"
   ]
  },
  {
   "cell_type": "code",
   "execution_count": 155,
   "id": "d868d54d",
   "metadata": {},
   "outputs": [],
   "source": [
    "def gradient_descent(Y,X_matrix,Beta,max_iteration):\n",
    "\n",
    "    learning_rate = 0.01\n",
    "    error = 0.001\n",
    "    Beta_new = Beta\n",
    "    Beta_old = Beta\n",
    "\n",
    "    X_t = np.transpose(X_matrix)\n",
    "    \n",
    "    count = 0\n",
    "\n",
    "    for iteration in range(max_iteration):\n",
    "\n",
    "        # Calculate Pi_vector\n",
    "        Pi_vector = 1/ (1 + np.exp(-np.dot(X_matrix, Beta_old)))\n",
    "\n",
    "        Beta_new = Beta_old - learning_rate*np.dot(X_t,(Y - Pi_vector))\n",
    "\n",
    "        if np.linalg.norm(Beta_new - Beta_old) < error:\n",
    "            break\n",
    "\n",
    "        Beta_old = Beta_new\n",
    "\n",
    "    else:\n",
    "        print(\"Warning: Maximum iterations reached without convergence.\")\n",
    "\n",
    "    return Beta_new"
   ]
  },
  {
   "cell_type": "code",
   "execution_count": 156,
   "id": "c2de443c",
   "metadata": {},
   "outputs": [
    {
     "name": "stderr",
     "output_type": "stream",
     "text": [
      "C:\\Users\\melih\\AppData\\Local\\Temp\\ipykernel_23148\\2505300662.py:15: RuntimeWarning: overflow encountered in exp\n",
      "  Pi_vector = 1/ (1 + np.exp(-np.dot(X_matrix, Beta_old)))\n"
     ]
    },
    {
     "name": "stdout",
     "output_type": "stream",
     "text": [
      "Warning: Maximum iterations reached without convergence.\n",
      "[[ 10402.90475602]\n",
      " [  9796.84287192]\n",
      " [  1874.76628059]\n",
      " [ -3670.88767673]\n",
      " [  -411.81868907]\n",
      " [   735.92206016]\n",
      " [-11339.37543166]\n",
      " [-11794.88178528]\n",
      " [-11425.34627441]\n",
      " [-11101.19900919]\n",
      " [-10770.99504606]\n",
      " [-10409.48703488]\n",
      " [    22.23823351]\n",
      " [  -243.22426783]\n",
      " [  -285.16317722]\n",
      " [  -357.5145191 ]\n",
      " [  -417.16653338]\n",
      " [  -388.65870622]\n",
      " [  2956.24972557]\n",
      " [  2353.10752419]\n",
      " [  2636.7128762 ]\n",
      " [  2665.79055952]\n",
      " [  2738.8292693 ]\n",
      " [  2572.62107256]]\n"
     ]
    }
   ],
   "source": [
    "resultGD = gradient_descent(Y,X,Beta,100)\n",
    "print(resultGD)"
   ]
  },
  {
   "cell_type": "code",
   "execution_count": 157,
   "id": "f9b51709-1c3f-4086-a301-05b84d101932",
   "metadata": {
    "tags": []
   },
   "outputs": [],
   "source": [
    "y_prob_own = np.dot(X,result)\n",
    "\n",
    "min_value = np.min(y_prob_own)\n",
    "max_value = np.max(y_prob_own)\n",
    "\n",
    "scaled_data = (y_prob_own - min_value) / (max_value - min_value)"
   ]
  },
  {
   "cell_type": "code",
   "execution_count": 158,
   "id": "af024a6a",
   "metadata": {},
   "outputs": [],
   "source": [
    "y_hat = np.empty((X.shape[0],1))\n",
    "    \n",
    "for i in range(X.shape[0]):\n",
    "        \n",
    "    if scaled_data[i,0] > 0.6:\n",
    "        y_hat[i,0] = 1\n",
    "    else:\n",
    "        y_hat[i,0] = 0"
   ]
  },
  {
   "cell_type": "code",
   "execution_count": 159,
   "id": "30eb0cbb-964c-4882-9bdc-7f17a2352159",
   "metadata": {
    "tags": []
   },
   "outputs": [
    {
     "name": "stdout",
     "output_type": "stream",
     "text": [
      "TP: 2774 TN: 21608 FP: 3862 FN: 1756\n"
     ]
    }
   ],
   "source": [
    "TP = 0\n",
    "TN = 0\n",
    "FP = 0\n",
    "FN = 0\n",
    "for i in range(X.shape[0]):\n",
    "    if (y_hat[i,0] == Y[i,0]) and (y_hat[i,0] == 1 and Y[i,0] == 1):\n",
    "        TP += 1\n",
    "    elif (y_hat[i,0] == Y[i,0]) and (y_hat[i,0] == 0 and Y[i,0] == 0):\n",
    "        TN += 1\n",
    "    elif (y_hat[i,0] != Y[i,0]) and (y_hat[i,0] == 0 and Y[i,0] == 1):\n",
    "        FP += 1\n",
    "    elif (y_hat[i,0] != Y[i,0]) and (y_hat[i,0] == 1 and Y[i,0] == 0):\n",
    "        FN += 1\n",
    "print(\"TP:\",TP,\"TN:\",TN,\"FP:\",FP,\"FN:\", FN)"
   ]
  },
  {
   "cell_type": "code",
   "execution_count": 160,
   "id": "65cfe08a-15e8-488f-b4f1-96e427c8dee7",
   "metadata": {
    "tags": []
   },
   "outputs": [
    {
     "name": "stdout",
     "output_type": "stream",
     "text": [
      "0.49686548450653767\n"
     ]
    }
   ],
   "source": [
    "precision = TP/(TP + FP)\n",
    "recall  = TP/(TP + FN)\n",
    "f1_score = 2*((precision*recall)/(precision+recall))\n",
    "print(f1_score)"
   ]
  },
  {
   "cell_type": "code",
   "execution_count": null,
   "id": "4961b677",
   "metadata": {},
   "outputs": [],
   "source": [
    "#Feature Selection"
   ]
  },
  {
   "cell_type": "code",
   "execution_count": 162,
   "id": "94c4da8d",
   "metadata": {},
   "outputs": [
    {
     "name": "stdout",
     "output_type": "stream",
     "text": [
      "0.5773412837600842\n"
     ]
    }
   ],
   "source": [
    "#SVM f1 score\n",
    "precision_svm = 1646/(1646+797)\n",
    "recall_svm = 1646/(1646 + 1613)\n",
    "f1_score_svm = 2*((precision_svm*recall_svm)/(precision_svm+recall_svm))\n",
    "print(f1_score_svm)"
   ]
  },
  {
   "cell_type": "code",
   "execution_count": null,
   "id": "1ad0a395",
   "metadata": {},
   "outputs": [],
   "source": [
    "def postprocess(fold,output,parameter):\n",
    "    min_value = np.min(output)\n",
    "    max_value = np.max(output)\n",
    "    scaled_data = (output - min_value) / (max_value - min_value)\n",
    "\n",
    "    y_hat = np.empty((fold.shape[0],1))\n",
    "    \n",
    "    for i in range((fold).shape[0]):\n",
    "        \n",
    "        if scaled_data[i,0] > parameter:\n",
    "            y_hat[i,0] = 1\n",
    "        else:\n",
    "            y_hat[i,0] = 0\n",
    "    \n",
    "    return y_hat"
   ]
  },
  {
   "cell_type": "code",
   "execution_count": 228,
   "id": "01743404",
   "metadata": {},
   "outputs": [
    {
     "name": "stdout",
     "output_type": "stream",
     "text": [
      "[10  3  7  1  5  8  4  9  6  2]\n"
     ]
    }
   ],
   "source": [
    "tuple_lst = np.empty((1,10))\n",
    "fold_size = 3000\n",
    "k = 10\n",
    "\n",
    "threshold_parameters = [0.1,0.2,0.3,0.4,0.5,0.55,0.6,0.7,0.8,0.9]\n",
    "random_fold_lst = np.random.choice(np.arange(1,11),k,replace = False)\n",
    "print(random_fold_lst)"
   ]
  },
  {
   "cell_type": "code",
   "execution_count": 367,
   "id": "0121c48f-27a8-40f8-9621-0e3ff174fe3f",
   "metadata": {},
   "outputs": [
    {
     "name": "stdout",
     "output_type": "stream",
     "text": [
      "0\n",
      "1\n"
     ]
    },
    {
     "ename": "LinAlgError",
     "evalue": "Singular matrix",
     "output_type": "error",
     "traceback": [
      "\u001b[1;31m---------------------------------------------------------------------------\u001b[0m",
      "\u001b[1;31mLinAlgError\u001b[0m                               Traceback (most recent call last)",
      "Cell \u001b[1;32mIn[367], line 18\u001b[0m\n\u001b[0;32m     15\u001b[0m test_result \u001b[38;5;241m=\u001b[39m newton_raphson(test_response,test_fold,Beta)\n\u001b[0;32m     16\u001b[0m y_prob_test \u001b[38;5;241m=\u001b[39m np\u001b[38;5;241m.\u001b[39mdot(test_fold,test_result)\n\u001b[1;32m---> 18\u001b[0m training_result \u001b[38;5;241m=\u001b[39m newton_raphson(training_response,training_fold,Beta)\n\u001b[0;32m     19\u001b[0m y_prob_training \u001b[38;5;241m=\u001b[39m np\u001b[38;5;241m.\u001b[39mdot(training_fold,training_result)\n\u001b[0;32m     21\u001b[0m y_hat_test \u001b[38;5;241m=\u001b[39m postprocess(test_fold,y_prob_test,threshold_parameters[parameter])\n",
      "Cell \u001b[1;32mIn[350], line 31\u001b[0m, in \u001b[0;36mnewton_raphson\u001b[1;34m(Y, X_matrix, Beta)\u001b[0m\n\u001b[0;32m     29\u001b[0m X_t \u001b[38;5;241m=\u001b[39m np\u001b[38;5;241m.\u001b[39mtranspose(X_matrix) \n\u001b[0;32m     30\u001b[0m A \u001b[38;5;241m=\u001b[39m np\u001b[38;5;241m.\u001b[39mdot(np\u001b[38;5;241m.\u001b[39mdot(X_t, W_matrix), X_matrix)\n\u001b[1;32m---> 31\u001b[0m A_inv \u001b[38;5;241m=\u001b[39m np\u001b[38;5;241m.\u001b[39mlinalg\u001b[38;5;241m.\u001b[39minv(A)\n\u001b[0;32m     33\u001b[0m Beta_new \u001b[38;5;241m=\u001b[39m Beta_old \u001b[38;5;241m+\u001b[39m np\u001b[38;5;241m.\u001b[39mdot(np\u001b[38;5;241m.\u001b[39mdot(A_inv, X_t), (Y \u001b[38;5;241m-\u001b[39m Pi_vector))\n\u001b[0;32m     35\u001b[0m Beta_old \u001b[38;5;241m=\u001b[39m Beta_new\n",
      "File \u001b[1;32mc:\\Users\\melih\\Anaconda3\\Lib\\site-packages\\numpy\\linalg\\linalg.py:561\u001b[0m, in \u001b[0;36minv\u001b[1;34m(a)\u001b[0m\n\u001b[0;32m    559\u001b[0m signature \u001b[38;5;241m=\u001b[39m \u001b[38;5;124m'\u001b[39m\u001b[38;5;124mD->D\u001b[39m\u001b[38;5;124m'\u001b[39m \u001b[38;5;28;01mif\u001b[39;00m isComplexType(t) \u001b[38;5;28;01melse\u001b[39;00m \u001b[38;5;124m'\u001b[39m\u001b[38;5;124md->d\u001b[39m\u001b[38;5;124m'\u001b[39m\n\u001b[0;32m    560\u001b[0m extobj \u001b[38;5;241m=\u001b[39m get_linalg_error_extobj(_raise_linalgerror_singular)\n\u001b[1;32m--> 561\u001b[0m ainv \u001b[38;5;241m=\u001b[39m _umath_linalg\u001b[38;5;241m.\u001b[39minv(a, signature\u001b[38;5;241m=\u001b[39msignature, extobj\u001b[38;5;241m=\u001b[39mextobj)\n\u001b[0;32m    562\u001b[0m \u001b[38;5;28;01mreturn\u001b[39;00m wrap(ainv\u001b[38;5;241m.\u001b[39mastype(result_t, copy\u001b[38;5;241m=\u001b[39m\u001b[38;5;28;01mFalse\u001b[39;00m))\n",
      "File \u001b[1;32mc:\\Users\\melih\\Anaconda3\\Lib\\site-packages\\numpy\\linalg\\linalg.py:112\u001b[0m, in \u001b[0;36m_raise_linalgerror_singular\u001b[1;34m(err, flag)\u001b[0m\n\u001b[0;32m    111\u001b[0m \u001b[38;5;28;01mdef\u001b[39;00m \u001b[38;5;21m_raise_linalgerror_singular\u001b[39m(err, flag):\n\u001b[1;32m--> 112\u001b[0m     \u001b[38;5;28;01mraise\u001b[39;00m LinAlgError(\u001b[38;5;124m\"\u001b[39m\u001b[38;5;124mSingular matrix\u001b[39m\u001b[38;5;124m\"\u001b[39m)\n",
      "\u001b[1;31mLinAlgError\u001b[0m: Singular matrix"
     ]
    },
    {
     "ename": "",
     "evalue": "",
     "output_type": "error",
     "traceback": [
      "\u001b[1;31mThe Kernel crashed while executing code in the current cell or a previous cell. \n",
      "\u001b[1;31mPlease review the code in the cell(s) to identify a possible cause of the failure. \n",
      "\u001b[1;31mClick <a href='https://aka.ms/vscodeJupyterKernelCrash'>here</a> for more info. \n",
      "\u001b[1;31mView Jupyter <a href='command:jupyter.viewOutput'>log</a> for further details."
     ]
    }
   ],
   "source": [
    "for parameter in range(len(threshold_parameters)):\n",
    "\n",
    "    parameter_test_error = 0\n",
    "    parameter_training_error = 0\n",
    "        \n",
    "    for fold in range(len(random_fold_lst)):\n",
    "\n",
    "        test_response = Y[fold_size*(random_fold_lst[fold]-1):fold_size*(random_fold_lst[fold])]\n",
    "        training_response = Y[fold_size*(random_fold_lst[fold]):]\n",
    "\n",
    "        test_fold = X[fold_size*(random_fold_lst[fold]-1):fold_size*(random_fold_lst[fold]),:]\n",
    "        training_fold = X[fold_size*(random_fold_lst[fold]):,:]\n",
    "        \n",
    "        print(fold)\n",
    "        test_result = newton_raphson(test_response,test_fold,Beta)\n",
    "        y_prob_test = np.dot(test_fold,test_result)\n",
    "\n",
    "        training_result = newton_raphson(training_response,training_fold,Beta)\n",
    "        y_prob_training = np.dot(training_fold,training_result)\n",
    "\n",
    "        y_hat_test = postprocess(test_fold,y_prob_test,threshold_parameters[parameter])\n",
    "        y_hat_training = postprocess(training_fold,y_prob_training,threshold_parameters[parameter])\n",
    "\n",
    "        fold_error_test = np.norm(test_response-y_hat_test)/3000\n",
    "        fold_error_training = np.norm(training_response-y_hat_training)/3000\n",
    "\n",
    "        parameter_test_error += fold_error_test\n",
    "        parameter_training_error += fold_error_training\n",
    "        \n",
    "    (Test,Train) = ((parameter_test_error/10),(parameter_training_error/10))\n",
    "    tuple_lst[1,parameter] = (Test,Train)\n",
    "    \n",
    "Overall_result = np.hstack(threshold_parameters,tuple_lst).reshape(2,1)"
   ]
  },
  {
   "cell_type": "code",
   "execution_count": null,
   "id": "7d543f5f",
   "metadata": {},
   "outputs": [],
   "source": []
  }
 ],
 "metadata": {
  "kernelspec": {
   "display_name": "Python 3 (ipykernel)",
   "language": "python",
   "name": "python3"
  },
  "language_info": {
   "codemirror_mode": {
    "name": "ipython",
    "version": 3
   },
   "file_extension": ".py",
   "mimetype": "text/x-python",
   "name": "python",
   "nbconvert_exporter": "python",
   "pygments_lexer": "ipython3",
   "version": "3.11.7"
  },
  "toc-autonumbering": false,
  "toc-showcode": true,
  "toc-showmarkdowntxt": false
 },
 "nbformat": 4,
 "nbformat_minor": 5
}
