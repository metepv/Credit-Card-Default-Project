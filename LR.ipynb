{
 "cells": [
  {
   "cell_type": "code",
   "execution_count": 1,
   "id": "6736f161-17a5-4f3d-b8e2-339c1596b22a",
   "metadata": {
    "tags": []
   },
   "outputs": [],
   "source": [
    "import numpy as np\n",
    "import pandas as pd\n",
    "import time"
   ]
  },
  {
   "cell_type": "code",
   "execution_count": 2,
   "id": "5ed63727-5158-4ab2-8f49-6b961f4900c5",
   "metadata": {
    "tags": []
   },
   "outputs": [],
   "source": [
    "file_path = \"UCI_Credit_Card.csv\""
   ]
  },
  {
   "cell_type": "code",
   "execution_count": 3,
   "id": "cbff2c62-f115-4acc-89d5-247b166b239c",
   "metadata": {
    "tags": []
   },
   "outputs": [],
   "source": [
    "data = pd.read_csv(file_path)"
   ]
  },
  {
   "cell_type": "code",
   "execution_count": 4,
   "id": "a45d0b86-b86b-42bb-957e-a9dc0a7b88e1",
   "metadata": {
    "tags": []
   },
   "outputs": [
    {
     "name": "stdout",
     "output_type": "stream",
     "text": [
      "          ID  LIMIT_BAL  SEX  EDUCATION  MARRIAGE  AGE  PAY_0  PAY_2  PAY_3  \\\n",
      "0          1    20000.0    2          2         1   24      2      2     -1   \n",
      "1          2   120000.0    2          2         2   26     -1      2      0   \n",
      "2          3    90000.0    2          2         2   34      0      0      0   \n",
      "3          4    50000.0    2          2         1   37      0      0      0   \n",
      "4          5    50000.0    1          2         1   57     -1      0     -1   \n",
      "...      ...        ...  ...        ...       ...  ...    ...    ...    ...   \n",
      "29995  29996   220000.0    1          3         1   39      0      0      0   \n",
      "29996  29997   150000.0    1          3         2   43     -1     -1     -1   \n",
      "29997  29998    30000.0    1          2         2   37      4      3      2   \n",
      "29998  29999    80000.0    1          3         1   41      1     -1      0   \n",
      "29999  30000    50000.0    1          2         1   46      0      0      0   \n",
      "\n",
      "       PAY_4  ...  BILL_AMT4  BILL_AMT5  BILL_AMT6  PAY_AMT1  PAY_AMT2  \\\n",
      "0         -1  ...        0.0        0.0        0.0       0.0     689.0   \n",
      "1          0  ...     3272.0     3455.0     3261.0       0.0    1000.0   \n",
      "2          0  ...    14331.0    14948.0    15549.0    1518.0    1500.0   \n",
      "3          0  ...    28314.0    28959.0    29547.0    2000.0    2019.0   \n",
      "4          0  ...    20940.0    19146.0    19131.0    2000.0   36681.0   \n",
      "...      ...  ...        ...        ...        ...       ...       ...   \n",
      "29995      0  ...    88004.0    31237.0    15980.0    8500.0   20000.0   \n",
      "29996     -1  ...     8979.0     5190.0        0.0    1837.0    3526.0   \n",
      "29997     -1  ...    20878.0    20582.0    19357.0       0.0       0.0   \n",
      "29998      0  ...    52774.0    11855.0    48944.0   85900.0    3409.0   \n",
      "29999      0  ...    36535.0    32428.0    15313.0    2078.0    1800.0   \n",
      "\n",
      "       PAY_AMT3  PAY_AMT4  PAY_AMT5  PAY_AMT6  default.payment.next.month  \n",
      "0           0.0       0.0       0.0       0.0                           1  \n",
      "1        1000.0    1000.0       0.0    2000.0                           1  \n",
      "2        1000.0    1000.0    1000.0    5000.0                           0  \n",
      "3        1200.0    1100.0    1069.0    1000.0                           0  \n",
      "4       10000.0    9000.0     689.0     679.0                           0  \n",
      "...         ...       ...       ...       ...                         ...  \n",
      "29995    5003.0    3047.0    5000.0    1000.0                           0  \n",
      "29996    8998.0     129.0       0.0       0.0                           0  \n",
      "29997   22000.0    4200.0    2000.0    3100.0                           1  \n",
      "29998    1178.0    1926.0   52964.0    1804.0                           1  \n",
      "29999    1430.0    1000.0    1000.0    1000.0                           1  \n",
      "\n",
      "[30000 rows x 25 columns]\n"
     ]
    }
   ],
   "source": [
    "print(data)"
   ]
  },
  {
   "cell_type": "code",
   "execution_count": 5,
   "id": "092745e7-86d4-41b9-85a7-9a987fdf9a2d",
   "metadata": {
    "tags": []
   },
   "outputs": [],
   "source": [
    "column_names = data.columns"
   ]
  },
  {
   "cell_type": "code",
   "execution_count": 6,
   "id": "06abe2d0-633a-4567-b9fb-59da7a48b70e",
   "metadata": {
    "tags": []
   },
   "outputs": [
    {
     "name": "stdout",
     "output_type": "stream",
     "text": [
      "Index(['ID', 'LIMIT_BAL', 'SEX', 'EDUCATION', 'MARRIAGE', 'AGE', 'PAY_0',\n",
      "       'PAY_2', 'PAY_3', 'PAY_4', 'PAY_5', 'PAY_6', 'BILL_AMT1', 'BILL_AMT2',\n",
      "       'BILL_AMT3', 'BILL_AMT4', 'BILL_AMT5', 'BILL_AMT6', 'PAY_AMT1',\n",
      "       'PAY_AMT2', 'PAY_AMT3', 'PAY_AMT4', 'PAY_AMT5', 'PAY_AMT6',\n",
      "       'default.payment.next.month'],\n",
      "      dtype='object')\n"
     ]
    }
   ],
   "source": [
    "print(column_names)"
   ]
  },
  {
   "cell_type": "code",
   "execution_count": 7,
   "id": "edaaf0dc-e33c-4052-b8ba-a024992ad348",
   "metadata": {
    "tags": []
   },
   "outputs": [],
   "source": [
    "X1 =  data['LIMIT_BAL'].values #\n",
    "X2 =  data['SEX'].values\n",
    "X3 =  data['EDUCATION'].values\n",
    "X4 =  data['MARRIAGE'].values\n",
    "X5 =  data['AGE'].values       #\n",
    "X6 =  data['PAY_0'].values\n",
    "X7 =  data['PAY_2'].values\n",
    "X8 =  data['PAY_3'].values\n",
    "X9 =  data['PAY_4'].values\n",
    "X10 = data['PAY_5'].values\n",
    "X11 = data['PAY_6'].values\n",
    "X12 = data['BILL_AMT1'].values #\n",
    "X13 = data['BILL_AMT2'].values #\n",
    "X14 = data['BILL_AMT3'].values #\n",
    "X15 = data['BILL_AMT4'].values #\n",
    "X16 = data['BILL_AMT5'].values #\n",
    "X17 = data['BILL_AMT6'].values #\n",
    "X18 = data['PAY_AMT1'].values  #\n",
    "X19 = data['PAY_AMT2'].values  #\n",
    "X20 = data['PAY_AMT3'].values  #\n",
    "X21 = data['PAY_AMT4'].values  #\n",
    "X22 = data['PAY_AMT5'].values  #\n",
    "X23 = data['PAY_AMT6'].values  #"
   ]
  },
  {
   "cell_type": "code",
   "execution_count": 342,
   "id": "b3cc61ee-54e1-46f2-b062-514a66de9d1d",
   "metadata": {
    "tags": []
   },
   "outputs": [],
   "source": [
    "def normalize(column_vector):\n",
    "    max_value = np.max(column_vector)\n",
    "    min_value= np.std(column_vector)\n",
    "    normalized = (column_vector - min_value)/(max_value-min_value)\n",
    "    return normalized"
   ]
  },
  {
   "cell_type": "code",
   "execution_count": 343,
   "id": "ca3eeb05-b47b-40e3-bb19-be1d1358b8b7",
   "metadata": {
    "tags": []
   },
   "outputs": [
    {
     "name": "stdout",
     "output_type": "stream",
     "text": [
      "[[ 1.         -0.12610736  1.         ... -0.02587976 -0.03715019\n",
      "  -0.03479655]\n",
      " [ 1.         -0.01119845  1.         ... -0.02422778 -0.03715019\n",
      "  -0.03088181]\n",
      " [ 1.         -0.04567112  1.         ... -0.02422778 -0.03471859\n",
      "  -0.02500969]\n",
      " ...\n",
      " [ 1.         -0.11461647  0.33813361 ... -0.01894144 -0.03228698\n",
      "  -0.0287287 ]\n",
      " [ 1.         -0.05716201  0.33813361 ... -0.02269804  0.09163735\n",
      "  -0.03126545]\n",
      " [ 1.         -0.09163469  0.33813361 ... -0.02422778 -0.03471859\n",
      "  -0.03283918]]\n",
      "(30000, 24)\n"
     ]
    }
   ],
   "source": [
    "n = 30000\n",
    "p = 24\n",
    "ones = np.ones(n)\n",
    "ones = np.reshape(ones,(n,1))\n",
    "X = np.column_stack((ones,normalize(X1),normalize(X2),  normalize(X3), normalize(X4), normalize(X5), normalize(X6),\\\n",
    "                          normalize(X7),normalize(X8),  normalize(X9), normalize(X10),normalize(X11),normalize(X12),\\\n",
    "                          normalize(X13),normalize(X14),normalize(X15),normalize(X16),normalize(X17),\\\n",
    "                          normalize(X18),normalize(X19),normalize(X20),normalize(X21),normalize(X22),\\\n",
    "                          normalize(X23)))\n",
    "                          \n",
    "#X = np.column_stack((ones,X1,X2,X3,X4,X5,X6,X7,X8,X9,X10,X11,X12,X13,X14,X15,X16,X17,X18,X19,X20,X21,X22,X23))\n",
    "\n",
    "print(X)\n",
    "print(X.shape)"
   ]
  },
  {
   "cell_type": "code",
   "execution_count": 344,
   "id": "66ca4648-3f8f-48eb-b849-6e5f604123a8",
   "metadata": {
    "tags": []
   },
   "outputs": [],
   "source": [
    "Y = data['default.payment.next.month'].values"
   ]
  },
  {
   "cell_type": "code",
   "execution_count": 345,
   "id": "cabaf24c-2e14-47a5-9659-3b4f1d4a79f7",
   "metadata": {
    "tags": []
   },
   "outputs": [
    {
     "name": "stdout",
     "output_type": "stream",
     "text": [
      "(30000, 1)\n"
     ]
    }
   ],
   "source": [
    "Y = np.reshape(Y,(30000,1))\n",
    "print(Y.shape)"
   ]
  },
  {
   "cell_type": "code",
   "execution_count": 346,
   "id": "5213fe7d-e660-45bb-bf27-4a16818eca2a",
   "metadata": {
    "tags": []
   },
   "outputs": [
    {
     "name": "stdout",
     "output_type": "stream",
     "text": [
      "[[ 1.         -0.12610736  1.         ... -0.02587976 -0.03715019\n",
      "  -0.03479655]\n",
      " [ 1.         -0.01119845  1.         ... -0.02422778 -0.03715019\n",
      "  -0.03088181]\n",
      " [ 1.         -0.04567112  1.         ... -0.02422778 -0.03471859\n",
      "  -0.02500969]\n",
      " ...\n",
      " [ 1.         -0.11461647  0.33813361 ... -0.01894144 -0.03228698\n",
      "  -0.0287287 ]\n",
      " [ 1.         -0.05716201  0.33813361 ... -0.02269804  0.09163735\n",
      "  -0.03126545]\n",
      " [ 1.         -0.09163469  0.33813361 ... -0.02422778 -0.03471859\n",
      "  -0.03283918]]\n",
      "(30000, 24)\n"
     ]
    }
   ],
   "source": [
    "print(X)\n",
    "print(X.shape)"
   ]
  },
  {
   "cell_type": "code",
   "execution_count": 347,
   "id": "e74ff2dd-e0d4-44d3-b92a-950349ae2108",
   "metadata": {
    "tags": []
   },
   "outputs": [],
   "source": [
    "def logistic_function(X_row,Beta):\n",
    "    result = 1/(1 + np.exp(-np.dot(X_row,Beta)))\n",
    "    return result"
   ]
  },
  {
   "cell_type": "code",
   "execution_count": 348,
   "id": "697ad8a7-46a4-41db-a532-8e2b516da604",
   "metadata": {
    "tags": []
   },
   "outputs": [
    {
     "name": "stdout",
     "output_type": "stream",
     "text": [
      "(30000, 1)\n",
      "(30000, 1)\n"
     ]
    }
   ],
   "source": [
    "Beta = np.zeros((24,1))\n",
    "Pi_vector = np.exp(np.dot(X,Beta))/(ones + np.exp(np.dot(X,Beta)))\n",
    "Pi_complement = ones - Pi_vector\n",
    "print(Pi_vector.shape)\n",
    "print(Pi_complement.shape)"
   ]
  },
  {
   "cell_type": "code",
   "execution_count": 349,
   "id": "6e6dc9c7-3ab7-4f1b-8b46-8bdbe0f8d558",
   "metadata": {
    "tags": []
   },
   "outputs": [
    {
     "name": "stdout",
     "output_type": "stream",
     "text": [
      "(30000,)\n",
      "[[0.25 0.   0.   ... 0.   0.   0.  ]\n",
      " [0.   0.25 0.   ... 0.   0.   0.  ]\n",
      " [0.   0.   0.25 ... 0.   0.   0.  ]\n",
      " ...\n",
      " [0.   0.   0.   ... 0.25 0.   0.  ]\n",
      " [0.   0.   0.   ... 0.   0.25 0.  ]\n",
      " [0.   0.   0.   ... 0.   0.   0.25]]\n",
      "(30000, 30000)\n"
     ]
    }
   ],
   "source": [
    "W_matrix = np.eye(X.shape[0])\n",
    "diagonal_indices = np.diag_indices_from(W_matrix)\n",
    "diagonal_values = np.multiply(Pi_vector, Pi_complement)\n",
    "diagonal_values = diagonal_values.flatten()\n",
    "print(diagonal_values.shape)\n",
    "W_matrix[diagonal_indices] = diagonal_values\n",
    "print(W_matrix)\n",
    "print(W_matrix.shape)"
   ]
  },
  {
   "cell_type": "code",
   "execution_count": 350,
   "id": "2a0c1353-2738-494e-865b-f0037611de18",
   "metadata": {
    "tags": []
   },
   "outputs": [],
   "source": [
    "def newton_raphson(Y,X_matrix,Beta):\n",
    "\n",
    "    error = 0.001\n",
    "    ones = np.ones(X_matrix.shape[0])\n",
    "    ones = np.reshape(ones,(X_matrix.shape[0],1))\n",
    "    Beta_new = Beta\n",
    "    Beta_old = Beta\n",
    "    Beta_old2 = Beta\n",
    "    \n",
    "    max_iteration = 20\n",
    "    count = 0\n",
    "    \n",
    "    while count != max_iteration:\n",
    "\n",
    "        Beta_old2 = Beta_old\n",
    "        \n",
    "        # Calculate Pi_vector\n",
    "        Pi_vector = np.exp(np.dot(X_matrix, Beta)) / (1 + np.exp(np.dot(X_matrix, Beta)))\n",
    "        Pi_complement = ones - Pi_vector\n",
    "        \n",
    "        # Update W_matrix\n",
    "        W_matrix = np.eye(X_matrix.shape[0])\n",
    "        diagonal_indices = np.diag_indices_from(W_matrix)\n",
    "        diagonal_values = np.multiply(Pi_vector, Pi_complement)\n",
    "        diagonal_values = diagonal_values.flatten()\n",
    "        W_matrix[diagonal_indices] = diagonal_values\n",
    "        \n",
    "        # Update Beta_new using Newton-Raphson update rule\n",
    "        X_t = np.transpose(X_matrix) \n",
    "        A = np.dot(np.dot(X_t, W_matrix), X_matrix)\n",
    "        A_inv = np.linalg.inv(A)\n",
    "        \n",
    "        Beta_new = Beta_old + np.dot(np.dot(A_inv, X_t), (Y - Pi_vector))\n",
    "        \n",
    "        Beta_old = Beta_new\n",
    "        count += 1\n",
    "        \n",
    "        if np.all(Beta_new - Beta_old) < error:\n",
    "            break\n",
    "\n",
    "    print(count)\n",
    "    return Beta_new\n"
   ]
  },
  {
   "cell_type": "code",
   "execution_count": 351,
   "id": "37fa2412",
   "metadata": {},
   "outputs": [],
   "source": [
    "def gradient_descent(Y,X,Beta):\n",
    "\n",
    "    learning_rate = 0.01\n",
    "    error = 0.001\n",
    "    Beta_new = Beta\n",
    "    Beta_old = Beta\n",
    "    Beta_old2 = Beta\n",
    "\n",
    "    max_iteration = 1000\n",
    "    count = 0\n",
    "    \n",
    "    X_t = np.transpose(X)\n",
    "\n",
    "    while count != max_iteration:\n",
    "\n",
    "        Beta_old2 = Beta_old\n",
    "\n",
    "        # Calculate Pi_vector\n",
    "        Pi_vector = np.exp(np.dot(X, Beta)) / (1 + np.exp(np.dot(X, Beta)))\n",
    "\n",
    "        Beta_new = Beta_old - learning_rate*np.dot(X_t,(Y - Pi_vector))\n",
    "\n",
    "        Beta_old = Beta_new\n",
    "        count += 1\n",
    "        \n",
    "        if np.linalg.norm(Beta_new - Beta_old2) < error:\n",
    "            break\n",
    "\n",
    "    print(count)\n",
    "    return Beta_new"
   ]
  },
  {
   "cell_type": "code",
   "execution_count": 364,
   "id": "2c2414c6-ec4f-4723-a985-099b8292610b",
   "metadata": {
    "tags": []
   },
   "outputs": [
    {
     "name": "stdout",
     "output_type": "stream",
     "text": [
      "1\n",
      "[[-0.47873572]\n",
      " [-0.3151423 ]\n",
      " [-0.0878206 ]\n",
      " [-0.31523383]\n",
      " [-0.23612257]\n",
      " [ 0.39343213]\n",
      " [ 2.63236631]\n",
      " [ 0.52942802]\n",
      " [ 0.31768452]\n",
      " [ 0.09185892]\n",
      " [ 0.15654727]\n",
      " [ 0.02170144]\n",
      " [-2.21816073]\n",
      " [ 0.57943011]\n",
      " [ 0.19170702]\n",
      " [-0.22479802]\n",
      " [-0.07099848]\n",
      " [ 0.41590672]\n",
      " [-2.54934107]\n",
      " [-1.39004622]\n",
      " [-0.1009685 ]\n",
      " [-0.61036326]\n",
      " [-0.5608773 ]\n",
      " [-0.19965081]]\n"
     ]
    }
   ],
   "source": [
    "result = newton_raphson(Y,X,Beta)\n",
    "print(result)"
   ]
  },
  {
   "cell_type": "code",
   "execution_count": 354,
   "id": "1fafaf60",
   "metadata": {},
   "outputs": [],
   "source": [
    "def postprocess(fold,output,parameter):\n",
    "    min_value = np.min(output)\n",
    "    max_value = np.max(output)\n",
    "    scaled_data = (output - min_value) / (max_value - min_value)\n",
    "\n",
    "    y_hat = np.empty((fold.shape[0],1))\n",
    "    \n",
    "    for i in range((fold).shape[0]):\n",
    "        \n",
    "        if scaled_data[i,0] > parameter:\n",
    "            y_hat[i,0] = 1\n",
    "        else:\n",
    "            y_hat[i,0] = 0\n",
    "    \n",
    "    return y_hat"
   ]
  },
  {
   "cell_type": "code",
   "execution_count": 355,
   "id": "f9b51709-1c3f-4086-a301-05b84d101932",
   "metadata": {
    "tags": []
   },
   "outputs": [],
   "source": [
    "y_prob_own = np.dot(X,result)\n",
    "\n",
    "min_value = np.min(y_prob_own)\n",
    "max_value = np.max(y_prob_own)\n",
    "\n",
    "scaled_data = (y_prob_own - min_value) / (max_value - min_value)"
   ]
  },
  {
   "cell_type": "code",
   "execution_count": 356,
   "id": "af024a6a",
   "metadata": {},
   "outputs": [],
   "source": [
    "y_hat = np.empty((X.shape[0],1))\n",
    "    \n",
    "for i in range(X.shape[0]):\n",
    "        \n",
    "    if scaled_data[i,0] > 0.55:\n",
    "        y_hat[i,0] = 1\n",
    "    else:\n",
    "        y_hat[i,0] = 0"
   ]
  },
  {
   "cell_type": "code",
   "execution_count": 357,
   "id": "30eb0cbb-964c-4882-9bdc-7f17a2352159",
   "metadata": {
    "tags": []
   },
   "outputs": [
    {
     "name": "stdout",
     "output_type": "stream",
     "text": [
      "TP: 4289 TN: 16159 FP: 2347 FN: 7205\n"
     ]
    }
   ],
   "source": [
    "TP = 0\n",
    "TN = 0\n",
    "FP = 0\n",
    "FN = 0\n",
    "for i in range(X.shape[0]):\n",
    "    if (y_hat[i,0] == Y[i,0]) and (y_hat[i,0] == 1 and Y[i,0] == 1):\n",
    "        TP += 1\n",
    "    elif (y_hat[i,0] == Y[i,0]) and (y_hat[i,0] == 0 and Y[i,0] == 0):\n",
    "        TN += 1\n",
    "    elif (y_hat[i,0] != Y[i,0]) and (y_hat[i,0] == 0 and Y[i,0] == 1):\n",
    "        FP += 1\n",
    "    elif (y_hat[i,0] != Y[i,0]) and (y_hat[i,0] == 1 and Y[i,0] == 0):\n",
    "        FN += 1\n",
    "print(\"TP:\",TP,\"TN:\",TN,\"FP:\",FP,\"FN:\", FN)"
   ]
  },
  {
   "cell_type": "code",
   "execution_count": 358,
   "id": "65cfe08a-15e8-488f-b4f1-96e427c8dee7",
   "metadata": {
    "tags": []
   },
   "outputs": [
    {
     "name": "stdout",
     "output_type": "stream",
     "text": [
      "Estimation of zeros: % 65\n",
      "Estimation of ones : % 69\n"
     ]
    }
   ],
   "source": [
    "one_accuracy = TP/(TP+FP)\n",
    "zero_accuracy = TN/(TN+FN)\n",
    "print(\"Estimation of zeros:\",\"%\",round(one_accuracy*100))\n",
    "print(\"Estimation of ones :\",\"%\",round(zero_accuracy*100))"
   ]
  },
  {
   "cell_type": "code",
   "execution_count": 227,
   "id": "3de919dc",
   "metadata": {},
   "outputs": [],
   "source": [
    "def postprocess(fold,output,parameter):\n",
    "    min_value = np.min(output)\n",
    "    max_value = np.max(output)\n",
    "    scaled_data = (output - min_value) / (max_value - min_value)\n",
    "\n",
    "    y_hat = np.empty((fold.shape[0],1))\n",
    "    \n",
    "    for i in range((fold).shape[0]):\n",
    "        \n",
    "        if scaled_data[i,0] > parameter:\n",
    "            y_hat[i,0] = 1\n",
    "        else:\n",
    "            y_hat[i,0] = 0\n",
    "    \n",
    "    return y_hat"
   ]
  },
  {
   "cell_type": "code",
   "execution_count": 228,
   "id": "01743404",
   "metadata": {},
   "outputs": [
    {
     "name": "stdout",
     "output_type": "stream",
     "text": [
      "[10  3  7  1  5  8  4  9  6  2]\n"
     ]
    }
   ],
   "source": [
    "tuple_lst = np.empty((1,10))\n",
    "fold_size = 3000\n",
    "k = 10\n",
    "\n",
    "threshold_parameters = [0.1,0.2,0.3,0.4,0.5,0.55,0.6,0.7,0.8,0.9]\n",
    "random_fold_lst = np.random.choice(np.arange(1,11),k,replace = False)\n",
    "print(random_fold_lst)"
   ]
  },
  {
   "cell_type": "code",
   "execution_count": 367,
   "id": "0121c48f-27a8-40f8-9621-0e3ff174fe3f",
   "metadata": {},
   "outputs": [
    {
     "name": "stdout",
     "output_type": "stream",
     "text": [
      "0\n",
      "1\n"
     ]
    },
    {
     "ename": "LinAlgError",
     "evalue": "Singular matrix",
     "output_type": "error",
     "traceback": [
      "\u001b[1;31m---------------------------------------------------------------------------\u001b[0m",
      "\u001b[1;31mLinAlgError\u001b[0m                               Traceback (most recent call last)",
      "Cell \u001b[1;32mIn[367], line 18\u001b[0m\n\u001b[0;32m     15\u001b[0m test_result \u001b[38;5;241m=\u001b[39m newton_raphson(test_response,test_fold,Beta)\n\u001b[0;32m     16\u001b[0m y_prob_test \u001b[38;5;241m=\u001b[39m np\u001b[38;5;241m.\u001b[39mdot(test_fold,test_result)\n\u001b[1;32m---> 18\u001b[0m training_result \u001b[38;5;241m=\u001b[39m newton_raphson(training_response,training_fold,Beta)\n\u001b[0;32m     19\u001b[0m y_prob_training \u001b[38;5;241m=\u001b[39m np\u001b[38;5;241m.\u001b[39mdot(training_fold,training_result)\n\u001b[0;32m     21\u001b[0m y_hat_test \u001b[38;5;241m=\u001b[39m postprocess(test_fold,y_prob_test,threshold_parameters[parameter])\n",
      "Cell \u001b[1;32mIn[350], line 31\u001b[0m, in \u001b[0;36mnewton_raphson\u001b[1;34m(Y, X_matrix, Beta)\u001b[0m\n\u001b[0;32m     29\u001b[0m X_t \u001b[38;5;241m=\u001b[39m np\u001b[38;5;241m.\u001b[39mtranspose(X_matrix) \n\u001b[0;32m     30\u001b[0m A \u001b[38;5;241m=\u001b[39m np\u001b[38;5;241m.\u001b[39mdot(np\u001b[38;5;241m.\u001b[39mdot(X_t, W_matrix), X_matrix)\n\u001b[1;32m---> 31\u001b[0m A_inv \u001b[38;5;241m=\u001b[39m np\u001b[38;5;241m.\u001b[39mlinalg\u001b[38;5;241m.\u001b[39minv(A)\n\u001b[0;32m     33\u001b[0m Beta_new \u001b[38;5;241m=\u001b[39m Beta_old \u001b[38;5;241m+\u001b[39m np\u001b[38;5;241m.\u001b[39mdot(np\u001b[38;5;241m.\u001b[39mdot(A_inv, X_t), (Y \u001b[38;5;241m-\u001b[39m Pi_vector))\n\u001b[0;32m     35\u001b[0m Beta_old \u001b[38;5;241m=\u001b[39m Beta_new\n",
      "File \u001b[1;32mc:\\Users\\melih\\Anaconda3\\Lib\\site-packages\\numpy\\linalg\\linalg.py:561\u001b[0m, in \u001b[0;36minv\u001b[1;34m(a)\u001b[0m\n\u001b[0;32m    559\u001b[0m signature \u001b[38;5;241m=\u001b[39m \u001b[38;5;124m'\u001b[39m\u001b[38;5;124mD->D\u001b[39m\u001b[38;5;124m'\u001b[39m \u001b[38;5;28;01mif\u001b[39;00m isComplexType(t) \u001b[38;5;28;01melse\u001b[39;00m \u001b[38;5;124m'\u001b[39m\u001b[38;5;124md->d\u001b[39m\u001b[38;5;124m'\u001b[39m\n\u001b[0;32m    560\u001b[0m extobj \u001b[38;5;241m=\u001b[39m get_linalg_error_extobj(_raise_linalgerror_singular)\n\u001b[1;32m--> 561\u001b[0m ainv \u001b[38;5;241m=\u001b[39m _umath_linalg\u001b[38;5;241m.\u001b[39minv(a, signature\u001b[38;5;241m=\u001b[39msignature, extobj\u001b[38;5;241m=\u001b[39mextobj)\n\u001b[0;32m    562\u001b[0m \u001b[38;5;28;01mreturn\u001b[39;00m wrap(ainv\u001b[38;5;241m.\u001b[39mastype(result_t, copy\u001b[38;5;241m=\u001b[39m\u001b[38;5;28;01mFalse\u001b[39;00m))\n",
      "File \u001b[1;32mc:\\Users\\melih\\Anaconda3\\Lib\\site-packages\\numpy\\linalg\\linalg.py:112\u001b[0m, in \u001b[0;36m_raise_linalgerror_singular\u001b[1;34m(err, flag)\u001b[0m\n\u001b[0;32m    111\u001b[0m \u001b[38;5;28;01mdef\u001b[39;00m \u001b[38;5;21m_raise_linalgerror_singular\u001b[39m(err, flag):\n\u001b[1;32m--> 112\u001b[0m     \u001b[38;5;28;01mraise\u001b[39;00m LinAlgError(\u001b[38;5;124m\"\u001b[39m\u001b[38;5;124mSingular matrix\u001b[39m\u001b[38;5;124m\"\u001b[39m)\n",
      "\u001b[1;31mLinAlgError\u001b[0m: Singular matrix"
     ]
    },
    {
     "ename": "",
     "evalue": "",
     "output_type": "error",
     "traceback": [
      "\u001b[1;31mThe Kernel crashed while executing code in the current cell or a previous cell. \n",
      "\u001b[1;31mPlease review the code in the cell(s) to identify a possible cause of the failure. \n",
      "\u001b[1;31mClick <a href='https://aka.ms/vscodeJupyterKernelCrash'>here</a> for more info. \n",
      "\u001b[1;31mView Jupyter <a href='command:jupyter.viewOutput'>log</a> for further details."
     ]
    }
   ],
   "source": [
    "for parameter in range(len(threshold_parameters)):\n",
    "\n",
    "    parameter_test_error = 0\n",
    "    parameter_training_error = 0\n",
    "        \n",
    "    for fold in range(len(random_fold_lst)):\n",
    "\n",
    "        test_response = Y[fold_size*(random_fold_lst[fold]-1):fold_size*(random_fold_lst[fold])]\n",
    "        training_response = Y[fold_size*(random_fold_lst[fold]):]\n",
    "\n",
    "        test_fold = X[fold_size*(random_fold_lst[fold]-1):fold_size*(random_fold_lst[fold]),:]\n",
    "        training_fold = X[fold_size*(random_fold_lst[fold]):,:]\n",
    "        \n",
    "        print(fold)\n",
    "        test_result = newton_raphson(test_response,test_fold,Beta)\n",
    "        y_prob_test = np.dot(test_fold,test_result)\n",
    "\n",
    "        training_result = newton_raphson(training_response,training_fold,Beta)\n",
    "        y_prob_training = np.dot(training_fold,training_result)\n",
    "\n",
    "        y_hat_test = postprocess(test_fold,y_prob_test,threshold_parameters[parameter])\n",
    "        y_hat_training = postprocess(training_fold,y_prob_training,threshold_parameters[parameter])\n",
    "\n",
    "        fold_error_test = np.norm(test_response-y_hat_test)/3000\n",
    "        fold_error_training = np.norm(training_response-y_hat_training)/3000\n",
    "\n",
    "        parameter_test_error += fold_error_test\n",
    "        parameter_training_error += fold_error_training\n",
    "        \n",
    "    (Test,Train) = ((parameter_test_error/10),(parameter_training_error/10))\n",
    "    tuple_lst[1,parameter] = (Test,Train)\n",
    "    \n",
    "Overall_result = np.hstack(threshold_parameters,tuple_lst).reshape(2,1)"
   ]
  },
  {
   "cell_type": "code",
   "execution_count": null,
   "id": "7d543f5f",
   "metadata": {},
   "outputs": [],
   "source": []
  }
 ],
 "metadata": {
  "kernelspec": {
   "display_name": "Python 3 (ipykernel)",
   "language": "python",
   "name": "python3"
  },
  "language_info": {
   "codemirror_mode": {
    "name": "ipython",
    "version": 3
   },
   "file_extension": ".py",
   "mimetype": "text/x-python",
   "name": "python",
   "nbconvert_exporter": "python",
   "pygments_lexer": "ipython3",
   "version": "3.11.7"
  },
  "toc-autonumbering": false,
  "toc-showcode": true,
  "toc-showmarkdowntxt": false
 },
 "nbformat": 4,
 "nbformat_minor": 5
}
