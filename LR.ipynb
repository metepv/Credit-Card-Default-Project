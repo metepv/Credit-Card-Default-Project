{
 "cells": [
  {
   "cell_type": "code",
   "execution_count": 1,
   "id": "f8152c84",
   "metadata": {
    "tags": []
   },
   "outputs": [],
   "source": [
    "#EEE 485: Statsitical Leaning and Data Analytics Term Project\n",
    "#Logistic Regression Algorithm Implementation"
   ]
  },
  {
   "cell_type": "code",
   "execution_count": 2,
   "id": "6736f161-17a5-4f3d-b8e2-339c1596b22a",
   "metadata": {
    "tags": []
   },
   "outputs": [],
   "source": [
    "import numpy as np\n",
    "import pandas as pd\n",
    "import time\n",
    "import matplotlib.pyplot as plt"
   ]
  },
  {
   "cell_type": "code",
   "execution_count": 5,
   "id": "5ed63727-5158-4ab2-8f49-6b961f4900c5",
   "metadata": {
    "tags": []
   },
   "outputs": [],
   "source": [
    "file_path = \"UCI_Credit_Card.csv\""
   ]
  },
  {
   "cell_type": "code",
   "execution_count": 7,
   "id": "cbff2c62-f115-4acc-89d5-247b166b239c",
   "metadata": {
    "tags": []
   },
   "outputs": [],
   "source": [
    "data = pd.read_csv(file_path)"
   ]
  },
  {
   "cell_type": "code",
   "execution_count": 9,
   "id": "a45d0b86-b86b-42bb-957e-a9dc0a7b88e1",
   "metadata": {
    "tags": []
   },
   "outputs": [
    {
     "name": "stdout",
     "output_type": "stream",
     "text": [
      "          ID  LIMIT_BAL  SEX  EDUCATION  MARRIAGE  AGE  PAY_0  PAY_2  PAY_3  \\\n",
      "0          1    20000.0    2          2         1   24      2      2     -1   \n",
      "1          2   120000.0    2          2         2   26     -1      2      0   \n",
      "2          3    90000.0    2          2         2   34      0      0      0   \n",
      "3          4    50000.0    2          2         1   37      0      0      0   \n",
      "4          5    50000.0    1          2         1   57     -1      0     -1   \n",
      "...      ...        ...  ...        ...       ...  ...    ...    ...    ...   \n",
      "29995  29996   220000.0    1          3         1   39      0      0      0   \n",
      "29996  29997   150000.0    1          3         2   43     -1     -1     -1   \n",
      "29997  29998    30000.0    1          2         2   37      4      3      2   \n",
      "29998  29999    80000.0    1          3         1   41      1     -1      0   \n",
      "29999  30000    50000.0    1          2         1   46      0      0      0   \n",
      "\n",
      "       PAY_4  ...  BILL_AMT4  BILL_AMT5  BILL_AMT6  PAY_AMT1  PAY_AMT2  \\\n",
      "0         -1  ...        0.0        0.0        0.0       0.0     689.0   \n",
      "1          0  ...     3272.0     3455.0     3261.0       0.0    1000.0   \n",
      "2          0  ...    14331.0    14948.0    15549.0    1518.0    1500.0   \n",
      "3          0  ...    28314.0    28959.0    29547.0    2000.0    2019.0   \n",
      "4          0  ...    20940.0    19146.0    19131.0    2000.0   36681.0   \n",
      "...      ...  ...        ...        ...        ...       ...       ...   \n",
      "29995      0  ...    88004.0    31237.0    15980.0    8500.0   20000.0   \n",
      "29996     -1  ...     8979.0     5190.0        0.0    1837.0    3526.0   \n",
      "29997     -1  ...    20878.0    20582.0    19357.0       0.0       0.0   \n",
      "29998      0  ...    52774.0    11855.0    48944.0   85900.0    3409.0   \n",
      "29999      0  ...    36535.0    32428.0    15313.0    2078.0    1800.0   \n",
      "\n",
      "       PAY_AMT3  PAY_AMT4  PAY_AMT5  PAY_AMT6  default.payment.next.month  \n",
      "0           0.0       0.0       0.0       0.0                           1  \n",
      "1        1000.0    1000.0       0.0    2000.0                           1  \n",
      "2        1000.0    1000.0    1000.0    5000.0                           0  \n",
      "3        1200.0    1100.0    1069.0    1000.0                           0  \n",
      "4       10000.0    9000.0     689.0     679.0                           0  \n",
      "...         ...       ...       ...       ...                         ...  \n",
      "29995    5003.0    3047.0    5000.0    1000.0                           0  \n",
      "29996    8998.0     129.0       0.0       0.0                           0  \n",
      "29997   22000.0    4200.0    2000.0    3100.0                           1  \n",
      "29998    1178.0    1926.0   52964.0    1804.0                           1  \n",
      "29999    1430.0    1000.0    1000.0    1000.0                           1  \n",
      "\n",
      "[30000 rows x 25 columns]\n"
     ]
    }
   ],
   "source": [
    "print(data)"
   ]
  },
  {
   "cell_type": "code",
   "execution_count": 11,
   "id": "092745e7-86d4-41b9-85a7-9a987fdf9a2d",
   "metadata": {
    "tags": []
   },
   "outputs": [],
   "source": [
    "column_names = data.columns"
   ]
  },
  {
   "cell_type": "code",
   "execution_count": 13,
   "id": "06abe2d0-633a-4567-b9fb-59da7a48b70e",
   "metadata": {
    "tags": []
   },
   "outputs": [
    {
     "name": "stdout",
     "output_type": "stream",
     "text": [
      "Index(['ID', 'LIMIT_BAL', 'SEX', 'EDUCATION', 'MARRIAGE', 'AGE', 'PAY_0',\n",
      "       'PAY_2', 'PAY_3', 'PAY_4', 'PAY_5', 'PAY_6', 'BILL_AMT1', 'BILL_AMT2',\n",
      "       'BILL_AMT3', 'BILL_AMT4', 'BILL_AMT5', 'BILL_AMT6', 'PAY_AMT1',\n",
      "       'PAY_AMT2', 'PAY_AMT3', 'PAY_AMT4', 'PAY_AMT5', 'PAY_AMT6',\n",
      "       'default.payment.next.month'],\n",
      "      dtype='object')\n"
     ]
    }
   ],
   "source": [
    "print(column_names)"
   ]
  },
  {
   "cell_type": "code",
   "execution_count": 147,
   "id": "edaaf0dc-e33c-4052-b8ba-a024992ad348",
   "metadata": {
    "tags": []
   },
   "outputs": [],
   "source": [
    "X1 =  data['LIMIT_BAL'].values #\n",
    "X2 =  data['SEX'].values\n",
    "X3 =  data['EDUCATION'].values\n",
    "X4 =  data['MARRIAGE'].values\n",
    "X5 =  data['AGE'].values       #\n",
    "X6 =  data['PAY_0'].values\n",
    "X7 =  data['PAY_2'].values\n",
    "X8 =  data['PAY_3'].values\n",
    "X9 =  data['PAY_4'].values\n",
    "X10 = data['PAY_5'].values\n",
    "X11 = data['PAY_6'].values\n",
    "X12 = data['BILL_AMT1'].values #\n",
    "X13 = data['BILL_AMT2'].values #\n",
    "X14 = data['BILL_AMT3'].values #\n",
    "X15 = data['BILL_AMT4'].values #\n",
    "X16 = data['BILL_AMT5'].values #\n",
    "X17 = data['BILL_AMT6'].values #\n",
    "X18 = data['PAY_AMT1'].values  #\n",
    "X19 = data['PAY_AMT2'].values  #\n",
    "X20 = data['PAY_AMT3'].values  #\n",
    "X21 = data['PAY_AMT4'].values  #\n",
    "X22 = data['PAY_AMT5'].values  #\n",
    "X23 = data['PAY_AMT6'].values  #\n",
    "\n",
    "main_design_matrix = np.column_stack((X1,X2,X3,X4,X5,X6,X7,X8,X9,X10,X11,X12,X13,X14,X15,X16,X17,X18,X19,X20,X21,X22,X23))\n",
    "main_response_vector = data['default.payment.next.month'].values"
   ]
  },
  {
   "cell_type": "code",
   "execution_count": 149,
   "id": "95369aac-d511-464d-bd86-7c764b3f7f2b",
   "metadata": {
    "tags": []
   },
   "outputs": [
    {
     "name": "stdout",
     "output_type": "stream",
     "text": [
      "[[2.0000e+04 2.0000e+00 2.0000e+00 ... 0.0000e+00 0.0000e+00 0.0000e+00]\n",
      " [1.2000e+05 2.0000e+00 2.0000e+00 ... 1.0000e+03 0.0000e+00 2.0000e+03]\n",
      " [9.0000e+04 2.0000e+00 2.0000e+00 ... 1.0000e+03 1.0000e+03 5.0000e+03]\n",
      " ...\n",
      " [3.0000e+04 1.0000e+00 2.0000e+00 ... 4.2000e+03 2.0000e+03 3.1000e+03]\n",
      " [8.0000e+04 1.0000e+00 3.0000e+00 ... 1.9260e+03 5.2964e+04 1.8040e+03]\n",
      " [5.0000e+04 1.0000e+00 2.0000e+00 ... 1.0000e+03 1.0000e+03 1.0000e+03]]\n"
     ]
    }
   ],
   "source": [
    "print(main_design_matrix)"
   ]
  },
  {
   "cell_type": "code",
   "execution_count": 151,
   "id": "b3cc61ee-54e1-46f2-b062-514a66de9d1d",
   "metadata": {
    "tags": []
   },
   "outputs": [],
   "source": [
    "def normalize(predictor):\n",
    "    mean_value = np.mean(predictor)\n",
    "    std_variance = np.std(predictor)\n",
    "    normalized = (predictor - mean_value)/std_variance\n",
    "    return normalized"
   ]
  },
  {
   "cell_type": "code",
   "execution_count": 153,
   "id": "ca3eeb05-b47b-40e3-bb19-be1d1358b8b7",
   "metadata": {
    "tags": []
   },
   "outputs": [
    {
     "name": "stdout",
     "output_type": "stream",
     "text": [
      "(30000, 24)\n"
     ]
    }
   ],
   "source": [
    "n = 30000\n",
    "p = 24\n",
    "ones = np.ones(n)\n",
    "ones = np.reshape(ones,(n,1))\n",
    "\n",
    "X = np.column_stack((ones,normalize(X1),normalize(X2),  normalize(X3), normalize(X4), normalize(X5), normalize(X6),\\\n",
    "                          normalize(X7),normalize(X8),  normalize(X9), normalize(X10),normalize(X11),normalize(X12),\\\n",
    "                          normalize(X13),normalize(X14),normalize(X15),normalize(X16),normalize(X17),\\\n",
    "                          normalize(X18),normalize(X19),normalize(X20),normalize(X21),normalize(X22),\\\n",
    "                          normalize(X23)))\n",
    "\n",
    "print(X.shape)"
   ]
  },
  {
   "cell_type": "code",
   "execution_count": 155,
   "id": "66ca4648-3f8f-48eb-b849-6e5f604123a8",
   "metadata": {
    "tags": []
   },
   "outputs": [],
   "source": [
    "Y = data['default.payment.next.month'].values"
   ]
  },
  {
   "cell_type": "code",
   "execution_count": 157,
   "id": "cabaf24c-2e14-47a5-9659-3b4f1d4a79f7",
   "metadata": {
    "tags": []
   },
   "outputs": [
    {
     "name": "stdout",
     "output_type": "stream",
     "text": [
      "(30000, 1)\n"
     ]
    }
   ],
   "source": [
    "Y = np.reshape(Y,(30000,1))\n",
    "print(Y.shape)"
   ]
  },
  {
   "cell_type": "code",
   "execution_count": 159,
   "id": "9727500c",
   "metadata": {
    "tags": []
   },
   "outputs": [
    {
     "name": "stdout",
     "output_type": "stream",
     "text": [
      "(24, 1)\n"
     ]
    }
   ],
   "source": [
    "Beta = np.zeros((24,1))\n",
    "print(Beta.shape)"
   ]
  },
  {
   "cell_type": "code",
   "execution_count": 161,
   "id": "697ad8a7-46a4-41db-a532-8e2b516da604",
   "metadata": {
    "tags": []
   },
   "outputs": [
    {
     "name": "stdout",
     "output_type": "stream",
     "text": [
      "(30000, 1)\n",
      "(30000, 1)\n"
     ]
    }
   ],
   "source": [
    "Pi_vector = np.exp(np.dot(X,Beta))/(ones + np.exp(np.dot(X,Beta)))\n",
    "Pi_complement = ones - Pi_vector\n",
    "print(Pi_vector.shape)\n",
    "print(Pi_complement.shape)"
   ]
  },
  {
   "cell_type": "code",
   "execution_count": 163,
   "id": "6e6dc9c7-3ab7-4f1b-8b46-8bdbe0f8d558",
   "metadata": {
    "tags": []
   },
   "outputs": [
    {
     "name": "stdout",
     "output_type": "stream",
     "text": [
      "(30000,)\n",
      "[[0.25 0.   0.   ... 0.   0.   0.  ]\n",
      " [0.   0.25 0.   ... 0.   0.   0.  ]\n",
      " [0.   0.   0.25 ... 0.   0.   0.  ]\n",
      " ...\n",
      " [0.   0.   0.   ... 0.25 0.   0.  ]\n",
      " [0.   0.   0.   ... 0.   0.25 0.  ]\n",
      " [0.   0.   0.   ... 0.   0.   0.25]]\n",
      "(30000, 30000)\n"
     ]
    }
   ],
   "source": [
    "W_matrix = np.eye(X.shape[0])\n",
    "diagonal_indices = np.diag_indices_from(W_matrix)\n",
    "diagonal_values = np.multiply(Pi_vector, Pi_complement)\n",
    "diagonal_values = diagonal_values.flatten()\n",
    "print(diagonal_values.shape)\n",
    "W_matrix[diagonal_indices] = diagonal_values\n",
    "print(W_matrix)\n",
    "print(W_matrix.shape)"
   ]
  },
  {
   "cell_type": "code",
   "execution_count": 165,
   "id": "2a0c1353-2738-494e-865b-f0037611de18",
   "metadata": {
    "tags": []
   },
   "outputs": [],
   "source": [
    "def newton_raphson(Y_vector,X_matrix,Beta_vector):\n",
    "\n",
    "    error = 0.001\n",
    "    ones = np.ones(X_matrix.shape[0])\n",
    "    ones = np.reshape(ones,(X_matrix.shape[0],1))\n",
    "    Beta_new = Beta_vector\n",
    "    Beta_old = Beta_vector\n",
    "    \n",
    "    max_iteration = 20\n",
    "    count = 0\n",
    "    \n",
    "    while count != max_iteration:\n",
    "        \n",
    "        # Calculate Pi_vector\n",
    "        #Pi_vector = np.exp(np.dot(X_matrix, Beta)) / (1 + np.exp(np.dot(X_matrix, Beta)))\n",
    "        Pi_vector = 1/ (1 + np.exp(-np.dot(X_matrix, Beta_old)))\n",
    "        Pi_complement = ones - Pi_vector\n",
    "        \n",
    "        # Update W_matrix\n",
    "        W_matrix = np.eye(X_matrix.shape[0])\n",
    "        diagonal_indices = np.diag_indices_from(W_matrix)\n",
    "        diagonal_values = np.multiply(Pi_vector, Pi_complement)\n",
    "        diagonal_values = diagonal_values.flatten()\n",
    "        W_matrix[diagonal_indices] = diagonal_values\n",
    "        \n",
    "        # Update Beta_new using Newton-Raphson update rule\n",
    "        X_t = np.transpose(X_matrix) \n",
    "        A = np.dot(np.dot(X_t, W_matrix), X_matrix)\n",
    "        A_inv = np.linalg.inv(A)\n",
    "        \n",
    "        Beta_new = Beta_old + np.dot(np.dot(A_inv, X_t), (Y_vector - Pi_vector))\n",
    "        \n",
    "        if np.linalg.norm(Beta_new - Beta_old) < error:\n",
    "            break\n",
    "\n",
    "        Beta_old = Beta_new\n",
    "        count += 1\n",
    "\n",
    "    print(count)\n",
    "    return Beta_new\n"
   ]
  },
  {
   "cell_type": "code",
   "execution_count": 167,
   "id": "2c2414c6-ec4f-4723-a985-099b8292610b",
   "metadata": {
    "tags": []
   },
   "outputs": [
    {
     "name": "stdout",
     "output_type": "stream",
     "text": [
      "5\n",
      "[[-1.46565367]\n",
      " [-0.09890296]\n",
      " [-0.05314444]\n",
      " [-0.0802848 ]\n",
      " [-0.0805674 ]\n",
      " [ 0.06839281]\n",
      " [ 0.64887994]\n",
      " [ 0.09915215]\n",
      " [ 0.08634176]\n",
      " [ 0.02792574]\n",
      " [ 0.03854232]\n",
      " [ 0.00924346]\n",
      " [-0.40442837]\n",
      " [ 0.16770513]\n",
      " [ 0.09467116]\n",
      " [-0.01171652]\n",
      " [ 0.03741806]\n",
      " [ 0.02345199]\n",
      " [-0.22577926]\n",
      " [-0.2215509 ]\n",
      " [-0.04827258]\n",
      " [-0.06303141]\n",
      " [-0.05058702]\n",
      " [-0.03669309]]\n"
     ]
    }
   ],
   "source": [
    "result = newton_raphson(Y,X,Beta)\n",
    "print(result)"
   ]
  },
  {
   "cell_type": "code",
   "execution_count": 169,
   "id": "d868d54d",
   "metadata": {
    "tags": []
   },
   "outputs": [],
   "source": [
    "def gradient_descent(Y_vector,X_matrix,Beta_vector,max_iteration):\n",
    "\n",
    "    learning_rate = 0.01\n",
    "    error = 0.001\n",
    "    Beta_new = Beta_vector\n",
    "    Beta_old = Beta_vector\n",
    "\n",
    "    X_t = np.transpose(X_matrix)\n",
    "    \n",
    "    count = 0\n",
    "\n",
    "    while count != max_iteration:\n",
    "\n",
    "        # Calculate Pi_vector\n",
    "        Pi_vector = 1/ (1 + np.exp(-np.dot(X_matrix, Beta_old)))\n",
    "\n",
    "        Beta_new = Beta_old - learning_rate*np.dot(X_t,(Y_vector - Pi_vector))\n",
    "\n",
    "        if np.linalg.norm(Beta_new - Beta_old) < error:\n",
    "            break\n",
    "\n",
    "        Beta_old = Beta_new\n",
    "        count += 1\n",
    "\n",
    "    else:\n",
    "        print(\"Warning: Maximum iterations reached without convergence.\")\n",
    "    \n",
    "    print(count)\n",
    "    return Beta_new"
   ]
  },
  {
   "cell_type": "code",
   "execution_count": 171,
   "id": "f9b51709-1c3f-4086-a301-05b84d101932",
   "metadata": {
    "tags": []
   },
   "outputs": [
    {
     "name": "stdout",
     "output_type": "stream",
     "text": [
      "TP: 6636 TN: 5 FP: 0 FN: 23359\n"
     ]
    }
   ],
   "source": [
    "y_prob_own = np.dot(X,result)\n",
    "\n",
    "min_value = np.min(y_prob_own)\n",
    "max_value = np.max(y_prob_own)\n",
    "\n",
    "scaled_data = (y_prob_own - min_value) / (max_value - min_value)\n",
    "\n",
    "y_hat = np.empty((X.shape[0],1))\n",
    "    \n",
    "for i in range(X.shape[0]):\n",
    "        \n",
    "    if scaled_data[i,0] > 0.6:\n",
    "        y_hat[i,0] = 1\n",
    "    else:\n",
    "        y_hat[i,0] = 0\n",
    "\n",
    "TP = 0\n",
    "TN = 0\n",
    "FP = 0\n",
    "FN = 0\n",
    "for i in range(X.shape[0]):\n",
    "    if (y_hat[i,0] == Y[i,0]) and (y_hat[i,0] == 1 and Y[i,0] == 1):\n",
    "        TP += 1\n",
    "    elif (y_hat[i,0] == Y[i,0]) and (y_hat[i,0] == 0 and Y[i,0] == 0):\n",
    "        TN += 1\n",
    "    elif (y_hat[i,0] != Y[i,0]) and (y_hat[i,0] == 0 and Y[i,0] == 1):\n",
    "        FP += 1\n",
    "    elif (y_hat[i,0] != Y[i,0]) and (y_hat[i,0] == 1 and Y[i,0] == 0):\n",
    "        FN += 1\n",
    "\n",
    "print(\"TP:\",TP,\"TN:\",TN,\"FP:\",FP,\"FN:\", FN)"
   ]
  },
  {
   "cell_type": "code",
   "execution_count": 173,
   "id": "65cfe08a-15e8-488f-b4f1-96e427c8dee7",
   "metadata": {
    "tags": []
   },
   "outputs": [
    {
     "name": "stdout",
     "output_type": "stream",
     "text": [
      "0.3623160710873304\n"
     ]
    }
   ],
   "source": [
    "precision = TP/(TP + FP)\n",
    "recall  = TP/(TP + FN)\n",
    "f1_score = 2*((precision*recall)/(precision+recall))\n",
    "print(f1_score)"
   ]
  },
  {
   "cell_type": "code",
   "execution_count": 253,
   "id": "1a564077",
   "metadata": {
    "tags": []
   },
   "outputs": [
    {
     "data": {
      "image/png": "[encoded data removed]",
      "text/plain": [
       "<Figure size 1300x700 with 1 Axes>"
      ]
     },
     "metadata": {},
     "output_type": "display_data"
    }
   ],
   "source": [
    "#Feature Ranking Via Correlation\n",
    "feature_scores = np.empty((23))\n",
    "\n",
    "for i in range(0,23):\n",
    "\n",
    "    column = X[:,i+1]\n",
    "    column = np.reshape(column,(30000,1))\n",
    "    response = np.reshape(Y,(30000,1))\n",
    "        \n",
    "    mean_of_response = np.mean(response)\n",
    "    mean_of_column = np.mean(column)\n",
    "\n",
    "    var_of_response = np.var(response)\n",
    "    var_of_column = np.var(column)\n",
    "\n",
    "    tilda_column = column - mean_of_column\n",
    "    tilda_response = response - mean_of_response\n",
    "\n",
    "    tilda_column_T = np.transpose(column)\n",
    "    tilda_response_T = np.transpose(response)\n",
    "\n",
    "    correlation_coeff = (np.dot(tilda_column_T,tilda_response))/\\\n",
    "        (np.sqrt(np.dot(tilda_column_T,tilda_column) + np.dot(tilda_response_T,tilda_response)))\n",
    "    \n",
    "    correlation_coeff_scalar = correlation_coeff[0,0]\n",
    "    \n",
    "    feature_scores[i] = np.square(correlation_coeff_scalar)\n",
    "    \n",
    "# Create an index array\n",
    "index_array = np.arange(1,24)\n",
    "\n",
    "# Plot the data\n",
    "plt.figure(figsize=(13, 7))\n",
    "plt.bar(index_array, feature_scores)\n",
    "plt.xlabel('Predictor')\n",
    "plt.ylabel('Covarince of Predictor with Y')\n",
    "plt.title('Feature Ranking Via Correlation')\n",
    "\n",
    "plt.xticks(index_array)\n",
    "\n",
    "for i, value in enumerate(feature_scores,start=1):\n",
    "    if value > 0:\n",
    "        plt.text(i, value, f'{value:.2f}', ha='center', va='bottom')\n",
    "    elif value < 0:\n",
    "        plt.text(i, value, f'{value:.2f}', ha='center', va='top')\n",
    "\n",
    "plt.grid(True)\n",
    "plt.tight_layout()\n",
    "plt.show()\n"
   ]
  },
  {
   "cell_type": "code",
   "execution_count": 231,
   "id": "1b7788bb",
   "metadata": {
    "tags": []
   },
   "outputs": [],
   "source": [
    "def matrix_generator(main_design_matrix,main_response_vector):\n",
    "    \n",
    "    #number of row\n",
    "    n = int(input(\"Enter row size: \"))\n",
    "    \n",
    "    #whether to take whole main matrix or not\n",
    "    matrix_bool = int(input(\"All features?(Yes:1/No:0): \"))\n",
    "\n",
    "    if matrix_bool != 1:     \n",
    "        p = input(\"Enter predictor numbers: \") \n",
    "        index_lst = p.split(\",\")\n",
    "        int_lst  = [int(num) for num in index_lst]\n",
    "    else:\n",
    "        int_lst = [0,1,2,3,4,5,6,7,8,9,10,11,12,13,14,15,16,17,18,19,20,21,22]\n",
    "        \n",
    "    print(int_lst)\n",
    "    Beta = np.zeros((len(int_lst)+1,1))\n",
    "\n",
    "    ones = np.ones(n)\n",
    "    ones = np.reshape(ones,(n,1))\n",
    "\n",
    "    X = ones\n",
    "\n",
    "    for i in range(len(int_lst)):\n",
    "        \n",
    "        normalized_colum = normalize(main_design_matrix[0:n,int_lst[i-1]])\n",
    "        X = np.column_stack((X,normalized_colum))\n",
    "    \n",
    "    Y = main_response_vector[0:n]\n",
    "    Y = np.reshape(Y,(n,1))\n",
    "    \n",
    "\n",
    "    print(Y.shape)\n",
    "    print(X.shape)\n",
    "    print(Beta.shape)\n",
    "    \n",
    "    return Y,X,Beta"
   ]
  },
  {
   "cell_type": "code",
   "execution_count": 233,
   "id": "0fa1e944",
   "metadata": {
    "tags": []
   },
   "outputs": [
    {
     "name": "stdin",
     "output_type": "stream",
     "text": [
      "Enter row size:  30000\n",
      "All features?(Yes:1/No:0):  0\n",
      "Enter predictor numbers:  6,7,8,9,10,11\n"
     ]
    },
    {
     "name": "stdout",
     "output_type": "stream",
     "text": [
      "[6, 7, 8, 9, 10, 11]\n",
      "(30000, 1)\n",
      "(30000, 7)\n",
      "(7, 1)\n"
     ]
    }
   ],
   "source": [
    "Y_custom,X_custom,Beta_custom = matrix_generator(main_design_matrix,main_response_vector)"
   ]
  },
  {
   "cell_type": "code",
   "execution_count": 235,
   "id": "3e1e492b-65ec-4ff7-9117-d90431c0beb1",
   "metadata": {
    "tags": []
   },
   "outputs": [
    {
     "name": "stdout",
     "output_type": "stream",
     "text": [
      "3\n",
      "[[-1.36714068]\n",
      " [-0.20987895]\n",
      " [ 0.46095151]\n",
      " [ 0.11385255]\n",
      " [ 0.08382539]\n",
      " [ 0.06190731]\n",
      " [ 0.04795721]]\n"
     ]
    }
   ],
   "source": [
    "result_custom = newton_raphson(Y_custom,X_custom,Beta_custom)\n",
    "print(result_custom)"
   ]
  },
  {
   "cell_type": "code",
   "execution_count": 249,
   "id": "937a9c81-8d2a-455a-ad2e-8d88d39cd38d",
   "metadata": {
    "tags": []
   },
   "outputs": [
    {
     "name": "stdout",
     "output_type": "stream",
     "text": [
      "TP: 2766 TN: 20942 FP: 3870 FN: 2422\n"
     ]
    }
   ],
   "source": [
    "y_prob_own = np.dot(X_custom,result_custom)\n",
    "\n",
    "min_value = np.min(y_prob_own)\n",
    "max_value = np.max(y_prob_own)\n",
    "\n",
    "scaled_data = (y_prob_own - min_value) / (max_value - min_value)\n",
    "\n",
    "y_hat = np.empty((X_custom.shape[0],1))\n",
    "    \n",
    "for i in range(X_custom.shape[0]):\n",
    "        \n",
    "    if scaled_data[i,0] > 0.4:\n",
    "        y_hat[i,0] = 1\n",
    "    else:\n",
    "        y_hat[i,0] = 0\n",
    "        \n",
    "TP_custom = 0\n",
    "TN_custom = 0\n",
    "FP_custom = 0\n",
    "FN_custom = 0\n",
    "\n",
    "for i in range(X_custom.shape[0]):\n",
    "    if (y_hat[i,0] == Y_custom[i,0]) and (y_hat[i,0] == 1 and Y_custom[i,0] == 1):\n",
    "        TP_custom += 1\n",
    "    elif (y_hat[i,0] == Y_custom[i,0]) and (y_hat[i,0] == 0 and Y_custom[i,0] == 0):\n",
    "        TN_custom += 1\n",
    "    elif (y_hat[i,0] != Y_custom[i,0]) and (y_hat[i,0] == 0 and Y_custom[i,0] == 1):\n",
    "        FP_custom += 1\n",
    "    elif (y_hat[i,0] != Y_custom[i,0]) and (y_hat[i,0] == 1 and Y_custom[i,0] == 0):\n",
    "        FN_custom += 1\n",
    "        \n",
    "print(\"TP:\",TP_custom,\"TN:\",TN_custom,\"FP:\",FP_custom,\"FN:\", FN_custom)"
   ]
  },
  {
   "cell_type": "code",
   "execution_count": 251,
   "id": "cd350cb7-5127-4495-aa0c-304a5dbdfb72",
   "metadata": {
    "tags": []
   },
   "outputs": [
    {
     "name": "stdout",
     "output_type": "stream",
     "text": [
      "0.4678619756427605\n"
     ]
    }
   ],
   "source": [
    "precision_custom = TP_custom/(TP_custom + FP_custom)\n",
    "recall_custom  = TP_custom/(TP_custom + FN_custom)\n",
    "f1_score_custom = 2*((precision_custom*recall_custom)/(precision_custom+recall_custom))\n",
    "print(f1_score_custom)"
   ]
  }
 ],
 "metadata": {
  "kernelspec": {
   "display_name": "Python 3 (ipykernel)",
   "language": "python",
   "name": "python3"
  },
  "language_info": {
   "codemirror_mode": {
    "name": "ipython",
    "version": 3
   },
   "file_extension": ".py",
   "mimetype": "text/x-python",
   "name": "python",
   "nbconvert_exporter": "python",
   "pygments_lexer": "ipython3",
   "version": "3.11.7"
  },
  "toc-autonumbering": false,
  "toc-showcode": true,
  "toc-showmarkdowntxt": false
 },
 "nbformat": 4,
 "nbformat_minor": 5
}
