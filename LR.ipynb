{
 "cells": [
  {
   "cell_type": "code",
   "execution_count": null,
   "id": "f8152c84",
   "metadata": {},
   "outputs": [],
   "source": [
    "#EEE 485: Statsitical Leaning and Data Analytics Term Project\n",
    "#Logistic Regression Algorithm Implementation"
   ]
  },
  {
   "cell_type": "code",
   "execution_count": null,
   "id": "6736f161-17a5-4f3d-b8e2-339c1596b22a",
   "metadata": {
    "tags": []
   },
   "outputs": [],
   "source": [
    "import numpy as np\n",
    "import pandas as pd\n",
    "import time\n",
    "import matplotlib.pyplot as plt"
   ]
  },
  {
   "cell_type": "code",
   "execution_count": null,
   "id": "5ed63727-5158-4ab2-8f49-6b961f4900c5",
   "metadata": {
    "tags": []
   },
   "outputs": [],
   "source": [
    "file_path = \"UCI_Credit_Card.csv\""
   ]
  },
  {
   "cell_type": "code",
   "execution_count": null,
   "id": "cbff2c62-f115-4acc-89d5-247b166b239c",
   "metadata": {
    "tags": []
   },
   "outputs": [],
   "source": [
    "data = pd.read_csv(file_path)"
   ]
  },
  {
   "cell_type": "code",
   "execution_count": null,
   "id": "a45d0b86-b86b-42bb-957e-a9dc0a7b88e1",
   "metadata": {
    "tags": []
   },
   "outputs": [
    {
     "name": "stdout",
     "output_type": "stream",
     "text": [
      "          ID  LIMIT_BAL  SEX  EDUCATION  MARRIAGE  AGE  PAY_0  PAY_2  PAY_3  \\\n",
      "0          1    20000.0    2          2         1   24      2      2     -1   \n",
      "1          2   120000.0    2          2         2   26     -1      2      0   \n",
      "2          3    90000.0    2          2         2   34      0      0      0   \n",
      "3          4    50000.0    2          2         1   37      0      0      0   \n",
      "4          5    50000.0    1          2         1   57     -1      0     -1   \n",
      "...      ...        ...  ...        ...       ...  ...    ...    ...    ...   \n",
      "29995  29996   220000.0    1          3         1   39      0      0      0   \n",
      "29996  29997   150000.0    1          3         2   43     -1     -1     -1   \n",
      "29997  29998    30000.0    1          2         2   37      4      3      2   \n",
      "29998  29999    80000.0    1          3         1   41      1     -1      0   \n",
      "29999  30000    50000.0    1          2         1   46      0      0      0   \n",
      "\n",
      "       PAY_4  ...  BILL_AMT4  BILL_AMT5  BILL_AMT6  PAY_AMT1  PAY_AMT2  \\\n",
      "0         -1  ...        0.0        0.0        0.0       0.0     689.0   \n",
      "1          0  ...     3272.0     3455.0     3261.0       0.0    1000.0   \n",
      "2          0  ...    14331.0    14948.0    15549.0    1518.0    1500.0   \n",
      "3          0  ...    28314.0    28959.0    29547.0    2000.0    2019.0   \n",
      "4          0  ...    20940.0    19146.0    19131.0    2000.0   36681.0   \n",
      "...      ...  ...        ...        ...        ...       ...       ...   \n",
      "29995      0  ...    88004.0    31237.0    15980.0    8500.0   20000.0   \n",
      "29996     -1  ...     8979.0     5190.0        0.0    1837.0    3526.0   \n",
      "29997     -1  ...    20878.0    20582.0    19357.0       0.0       0.0   \n",
      "29998      0  ...    52774.0    11855.0    48944.0   85900.0    3409.0   \n",
      "29999      0  ...    36535.0    32428.0    15313.0    2078.0    1800.0   \n",
      "\n",
      "       PAY_AMT3  PAY_AMT4  PAY_AMT5  PAY_AMT6  default.payment.next.month  \n",
      "0           0.0       0.0       0.0       0.0                           1  \n",
      "1        1000.0    1000.0       0.0    2000.0                           1  \n",
      "2        1000.0    1000.0    1000.0    5000.0                           0  \n",
      "3        1200.0    1100.0    1069.0    1000.0                           0  \n",
      "4       10000.0    9000.0     689.0     679.0                           0  \n",
      "...         ...       ...       ...       ...                         ...  \n",
      "29995    5003.0    3047.0    5000.0    1000.0                           0  \n",
      "29996    8998.0     129.0       0.0       0.0                           0  \n",
      "29997   22000.0    4200.0    2000.0    3100.0                           1  \n",
      "29998    1178.0    1926.0   52964.0    1804.0                           1  \n",
      "29999    1430.0    1000.0    1000.0    1000.0                           1  \n",
      "\n",
      "[30000 rows x 25 columns]\n"
     ]
    }
   ],
   "source": [
    "print(data)"
   ]
  },
  {
   "cell_type": "code",
   "execution_count": null,
   "id": "092745e7-86d4-41b9-85a7-9a987fdf9a2d",
   "metadata": {
    "tags": []
   },
   "outputs": [],
   "source": [
    "column_names = data.columns"
   ]
  },
  {
   "cell_type": "code",
   "execution_count": null,
   "id": "06abe2d0-633a-4567-b9fb-59da7a48b70e",
   "metadata": {
    "tags": []
   },
   "outputs": [
    {
     "name": "stdout",
     "output_type": "stream",
     "text": [
      "Index(['ID', 'LIMIT_BAL', 'SEX', 'EDUCATION', 'MARRIAGE', 'AGE', 'PAY_0',\n",
      "       'PAY_2', 'PAY_3', 'PAY_4', 'PAY_5', 'PAY_6', 'BILL_AMT1', 'BILL_AMT2',\n",
      "       'BILL_AMT3', 'BILL_AMT4', 'BILL_AMT5', 'BILL_AMT6', 'PAY_AMT1',\n",
      "       'PAY_AMT2', 'PAY_AMT3', 'PAY_AMT4', 'PAY_AMT5', 'PAY_AMT6',\n",
      "       'default.payment.next.month'],\n",
      "      dtype='object')\n"
     ]
    }
   ],
   "source": [
    "print(column_names)"
   ]
  },
  {
   "cell_type": "code",
   "execution_count": null,
   "id": "edaaf0dc-e33c-4052-b8ba-a024992ad348",
   "metadata": {
    "tags": []
   },
   "outputs": [],
   "source": [
    "X1 =  data['LIMIT_BAL'].values #\n",
    "X2 =  data['SEX'].values\n",
    "X3 =  data['EDUCATION'].values\n",
    "X4 =  data['MARRIAGE'].values\n",
    "X5 =  data['AGE'].values       #\n",
    "X6 =  data['PAY_0'].values\n",
    "X7 =  data['PAY_2'].values\n",
    "X8 =  data['PAY_3'].values\n",
    "X9 =  data['PAY_4'].values\n",
    "X10 = data['PAY_5'].values\n",
    "X11 = data['PAY_6'].values\n",
    "X12 = data['BILL_AMT1'].values #\n",
    "X13 = data['BILL_AMT2'].values #\n",
    "X14 = data['BILL_AMT3'].values #\n",
    "X15 = data['BILL_AMT4'].values #\n",
    "X16 = data['BILL_AMT5'].values #\n",
    "X17 = data['BILL_AMT6'].values #\n",
    "X18 = data['PAY_AMT1'].values  #\n",
    "X19 = data['PAY_AMT2'].values  #\n",
    "X20 = data['PAY_AMT3'].values  #\n",
    "X21 = data['PAY_AMT4'].values  #\n",
    "X22 = data['PAY_AMT5'].values  #\n",
    "X23 = data['PAY_AMT6'].values  #\n",
    "\n",
    "main_design_matrix = np.column_stack((X1,X2,X3,X4,X5,X6,X7,X8,X9,X10,X11,X12,X13,X14,X15,X16,X17,X17,X18,X19,X20,X21,X22,X23))"
   ]
  },
  {
   "cell_type": "code",
   "execution_count": null,
   "id": "b3cc61ee-54e1-46f2-b062-514a66de9d1d",
   "metadata": {
    "tags": []
   },
   "outputs": [],
   "source": [
    "def normalize(predictor):\n",
    "    mean_value = np.mean(predictor)\n",
    "    std_variance = np.std(predictor)\n",
    "    normalized = (predictor - mean_value)/std_variance\n",
    "    return normalized"
   ]
  },
  {
   "cell_type": "code",
   "execution_count": null,
   "id": "ca3eeb05-b47b-40e3-bb19-be1d1358b8b7",
   "metadata": {
    "tags": []
   },
   "outputs": [
    {
     "name": "stdout",
     "output_type": "stream",
     "text": [
      "(30000, 24)\n"
     ]
    }
   ],
   "source": [
    "n = 30000\n",
    "p = 24\n",
    "ones = np.ones(n)\n",
    "ones = np.reshape(ones,(n,1))\n",
    "\n",
    "X = np.column_stack((ones,normalize(X1),normalize(X2),  normalize(X3), normalize(X4), normalize(X5), normalize(X6),\\\n",
    "                          normalize(X7),normalize(X8),  normalize(X9), normalize(X10),normalize(X11),normalize(X12),\\\n",
    "                          normalize(X13),normalize(X14),normalize(X15),normalize(X16),normalize(X17),\\\n",
    "                          normalize(X18),normalize(X19),normalize(X20),normalize(X21),normalize(X22),\\\n",
    "                          normalize(X23)))\n",
    "\n",
    "print(X.shape)"
   ]
  },
  {
   "cell_type": "code",
   "execution_count": null,
   "id": "66ca4648-3f8f-48eb-b849-6e5f604123a8",
   "metadata": {
    "tags": []
   },
   "outputs": [],
   "source": [
    "Y = data['default.payment.next.month'].values"
   ]
  },
  {
   "cell_type": "code",
   "execution_count": null,
   "id": "cabaf24c-2e14-47a5-9659-3b4f1d4a79f7",
   "metadata": {
    "tags": []
   },
   "outputs": [
    {
     "name": "stdout",
     "output_type": "stream",
     "text": [
      "(30000, 1)\n"
     ]
    }
   ],
   "source": [
    "Y = np.reshape(Y,(30000,1))\n",
    "print(Y.shape)"
   ]
  },
  {
   "cell_type": "code",
   "execution_count": null,
   "id": "9727500c",
   "metadata": {},
   "outputs": [
    {
     "name": "stdout",
     "output_type": "stream",
     "text": [
      "(24, 1)\n"
     ]
    }
   ],
   "source": [
    "Beta = np.zeros((24,1))\n",
    "print(Beta.shape)"
   ]
  },
  {
   "cell_type": "code",
   "execution_count": null,
   "id": "697ad8a7-46a4-41db-a532-8e2b516da604",
   "metadata": {
    "tags": []
   },
   "outputs": [
    {
     "name": "stdout",
     "output_type": "stream",
     "text": [
      "(30000, 1)\n",
      "(30000, 1)\n"
     ]
    }
   ],
   "source": [
    "Pi_vector = np.exp(np.dot(X,Beta))/(ones + np.exp(np.dot(X,Beta)))\n",
    "Pi_complement = ones - Pi_vector\n",
    "print(Pi_vector.shape)\n",
    "print(Pi_complement.shape)"
   ]
  },
  {
   "cell_type": "code",
   "execution_count": null,
   "id": "6e6dc9c7-3ab7-4f1b-8b46-8bdbe0f8d558",
   "metadata": {
    "tags": []
   },
   "outputs": [
    {
     "name": "stdout",
     "output_type": "stream",
     "text": [
      "(30000,)\n",
      "[[0.25 0.   0.   ... 0.   0.   0.  ]\n",
      " [0.   0.25 0.   ... 0.   0.   0.  ]\n",
      " [0.   0.   0.25 ... 0.   0.   0.  ]\n",
      " ...\n",
      " [0.   0.   0.   ... 0.25 0.   0.  ]\n",
      " [0.   0.   0.   ... 0.   0.25 0.  ]\n",
      " [0.   0.   0.   ... 0.   0.   0.25]]\n",
      "(30000, 30000)\n"
     ]
    }
   ],
   "source": [
    "W_matrix = np.eye(X.shape[0])\n",
    "diagonal_indices = np.diag_indices_from(W_matrix)\n",
    "diagonal_values = np.multiply(Pi_vector, Pi_complement)\n",
    "diagonal_values = diagonal_values.flatten()\n",
    "print(diagonal_values.shape)\n",
    "W_matrix[diagonal_indices] = diagonal_values\n",
    "print(W_matrix)\n",
    "print(W_matrix.shape)"
   ]
  },
  {
   "cell_type": "code",
   "execution_count": null,
   "id": "2a0c1353-2738-494e-865b-f0037611de18",
   "metadata": {
    "tags": []
   },
   "outputs": [],
   "source": [
    "def newton_raphson(Y,X_matrix,Beta):\n",
    "\n",
    "    error = 0.001\n",
    "    ones = np.ones(X_matrix.shape[0])\n",
    "    ones = np.reshape(ones,(X_matrix.shape[0],1))\n",
    "    Beta_new = Beta\n",
    "    Beta_old = Beta\n",
    "    \n",
    "    max_iteration = 20\n",
    "    count = 0\n",
    "    \n",
    "    while count != max_iteration:\n",
    "\n",
    "        Beta_old2 = Beta_old\n",
    "        \n",
    "        # Calculate Pi_vector\n",
    "        #Pi_vector = np.exp(np.dot(X_matrix, Beta)) / (1 + np.exp(np.dot(X_matrix, Beta)))\n",
    "        Pi_vector = 1/ (1 + np.exp(-np.dot(X_matrix, Beta_old)))\n",
    "        Pi_complement = ones - Pi_vector\n",
    "        \n",
    "        # Update W_matrix\n",
    "        W_matrix = np.eye(X_matrix.shape[0])\n",
    "        diagonal_indices = np.diag_indices_from(W_matrix)\n",
    "        diagonal_values = np.multiply(Pi_vector, Pi_complement)\n",
    "        diagonal_values = diagonal_values.flatten()\n",
    "        W_matrix[diagonal_indices] = diagonal_values\n",
    "        \n",
    "        # Update Beta_new using Newton-Raphson update rule\n",
    "        X_t = np.transpose(X_matrix) \n",
    "        A = np.dot(np.dot(X_t, W_matrix), X_matrix)\n",
    "        A_inv = np.linalg.inv(A)\n",
    "        \n",
    "        Beta_new = Beta_old + np.dot(np.dot(A_inv, X_t), (Y - Pi_vector))\n",
    "        \n",
    "        Beta_old = Beta_new\n",
    "        count += 1\n",
    "        \n",
    "        if np.all(Beta_new - Beta_old) < error:\n",
    "            break\n",
    "\n",
    "    print(count)\n",
    "    return Beta_new\n"
   ]
  },
  {
   "cell_type": "code",
   "execution_count": null,
   "id": "2c2414c6-ec4f-4723-a985-099b8292610b",
   "metadata": {
    "tags": []
   },
   "outputs": [
    {
     "name": "stdout",
     "output_type": "stream",
     "text": [
      "1\n",
      "[[-1.1152    ]\n",
      " [-0.0469843 ]\n",
      " [-0.02843041]\n",
      " [-0.04782275]\n",
      " [-0.04973559]\n",
      " [ 0.05196965]\n",
      " [ 0.43020863]\n",
      " [ 0.093169  ]\n",
      " [ 0.05588879]\n",
      " [ 0.01572184]\n",
      " [ 0.02583352]\n",
      " [ 0.00364319]\n",
      " [-0.1833402 ]\n",
      " [ 0.04518122]\n",
      " [ 0.00833649]\n",
      " [-0.01748152]\n",
      " [-0.00498218]\n",
      " [ 0.0274562 ]\n",
      " [-0.04927105]\n",
      " [-0.01927943]\n",
      " [-0.00202374]\n",
      " [-0.01579605]\n",
      " [-0.0208367 ]\n",
      " [-0.00694716]]\n"
     ]
    }
   ],
   "source": [
    "result = newton_raphson(Y,X,Beta)\n",
    "print(result)"
   ]
  },
  {
   "cell_type": "code",
   "execution_count": null,
   "id": "d868d54d",
   "metadata": {},
   "outputs": [],
   "source": [
    "def gradient_descent(Y,X_matrix,Beta,max_iteration):\n",
    "\n",
    "    learning_rate = 0.01\n",
    "    error = 0.001\n",
    "    Beta_new = Beta\n",
    "    Beta_old = Beta\n",
    "\n",
    "    X_t = np.transpose(X_matrix)\n",
    "    \n",
    "    count = 0\n",
    "\n",
    "    for iteration in range(max_iteration):\n",
    "\n",
    "        # Calculate Pi_vector\n",
    "        Pi_vector = 1/ (1 + np.exp(-np.dot(X_matrix, Beta_old)))\n",
    "\n",
    "        Beta_new = Beta_old - learning_rate*np.dot(X_t,(Y - Pi_vector))\n",
    "\n",
    "        if np.linalg.norm(Beta_new - Beta_old) < error:\n",
    "            break\n",
    "\n",
    "        Beta_old = Beta_new\n",
    "\n",
    "    else:\n",
    "        print(\"Warning: Maximum iterations reached without convergence.\")\n",
    "\n",
    "    return Beta_new"
   ]
  },
  {
   "cell_type": "code",
   "execution_count": null,
   "id": "c2de443c",
   "metadata": {},
   "outputs": [
    {
     "name": "stderr",
     "output_type": "stream",
     "text": [
      "C:\\Users\\melih\\AppData\\Local\\Temp\\ipykernel_23148\\2505300662.py:15: RuntimeWarning: overflow encountered in exp\n",
      "  Pi_vector = 1/ (1 + np.exp(-np.dot(X_matrix, Beta_old)))\n"
     ]
    },
    {
     "name": "stdout",
     "output_type": "stream",
     "text": [
      "Warning: Maximum iterations reached without convergence.\n",
      "[[ 10402.90475602]\n",
      " [  9796.84287192]\n",
      " [  1874.76628059]\n",
      " [ -3670.88767673]\n",
      " [  -411.81868907]\n",
      " [   735.92206016]\n",
      " [-11339.37543166]\n",
      " [-11794.88178528]\n",
      " [-11425.34627441]\n",
      " [-11101.19900919]\n",
      " [-10770.99504606]\n",
      " [-10409.48703488]\n",
      " [    22.23823351]\n",
      " [  -243.22426783]\n",
      " [  -285.16317722]\n",
      " [  -357.5145191 ]\n",
      " [  -417.16653338]\n",
      " [  -388.65870622]\n",
      " [  2956.24972557]\n",
      " [  2353.10752419]\n",
      " [  2636.7128762 ]\n",
      " [  2665.79055952]\n",
      " [  2738.8292693 ]\n",
      " [  2572.62107256]]\n"
     ]
    }
   ],
   "source": [
    "resultGD = gradient_descent(Y,X,Beta,100)\n",
    "print(resultGD)"
   ]
  },
  {
   "cell_type": "code",
   "execution_count": null,
   "id": "f9b51709-1c3f-4086-a301-05b84d101932",
   "metadata": {
    "tags": []
   },
   "outputs": [],
   "source": [
    "y_prob_own = np.dot(X,result)\n",
    "\n",
    "min_value = np.min(y_prob_own)\n",
    "max_value = np.max(y_prob_own)\n",
    "\n",
    "scaled_data = (y_prob_own - min_value) / (max_value - min_value)"
   ]
  },
  {
   "cell_type": "code",
   "execution_count": null,
   "id": "af024a6a",
   "metadata": {},
   "outputs": [],
   "source": [
    "y_hat = np.empty((X.shape[0],1))\n",
    "    \n",
    "for i in range(X.shape[0]):\n",
    "        \n",
    "    if scaled_data[i,0] > 0.6:\n",
    "        y_hat[i,0] = 1\n",
    "    else:\n",
    "        y_hat[i,0] = 0"
   ]
  },
  {
   "cell_type": "code",
   "execution_count": null,
   "id": "30eb0cbb-964c-4882-9bdc-7f17a2352159",
   "metadata": {
    "tags": []
   },
   "outputs": [
    {
     "name": "stdout",
     "output_type": "stream",
     "text": [
      "TP: 2774 TN: 21608 FP: 3862 FN: 1756\n"
     ]
    }
   ],
   "source": [
    "TP = 0\n",
    "TN = 0\n",
    "FP = 0\n",
    "FN = 0\n",
    "for i in range(X.shape[0]):\n",
    "    if (y_hat[i,0] == Y[i,0]) and (y_hat[i,0] == 1 and Y[i,0] == 1):\n",
    "        TP += 1\n",
    "    elif (y_hat[i,0] == Y[i,0]) and (y_hat[i,0] == 0 and Y[i,0] == 0):\n",
    "        TN += 1\n",
    "    elif (y_hat[i,0] != Y[i,0]) and (y_hat[i,0] == 0 and Y[i,0] == 1):\n",
    "        FP += 1\n",
    "    elif (y_hat[i,0] != Y[i,0]) and (y_hat[i,0] == 1 and Y[i,0] == 0):\n",
    "        FN += 1\n",
    "print(\"TP:\",TP,\"TN:\",TN,\"FP:\",FP,\"FN:\", FN)"
   ]
  },
  {
   "cell_type": "code",
   "execution_count": null,
   "id": "65cfe08a-15e8-488f-b4f1-96e427c8dee7",
   "metadata": {
    "tags": []
   },
   "outputs": [
    {
     "name": "stdout",
     "output_type": "stream",
     "text": [
      "0.49686548450653767\n"
     ]
    }
   ],
   "source": [
    "precision = TP/(TP + FP)\n",
    "recall  = TP/(TP + FN)\n",
    "f1_score = 2*((precision*recall)/(precision+recall))\n",
    "print(f1_score)"
   ]
  },
  {
   "cell_type": "code",
   "execution_count": null,
   "id": "1a564077",
   "metadata": {},
   "outputs": [
    {
     "name": "stderr",
     "output_type": "stream",
     "text": [
      "C:\\Users\\melih\\AppData\\Local\\Temp\\ipykernel_23148\\2075831249.py:25: DeprecationWarning: Conversion of an array with ndim > 0 to a scalar is deprecated, and will error in future. Ensure you extract a single element from your array before performing this operation. (Deprecated NumPy 1.25.)\n",
      "  feature_scores[i] = correlation_coeff\n"
     ]
    },
    {
     "data": {
      "image/png": "[encoded data removed]",
      "text/plain": [
       "<Figure size 1000x600 with 1 Axes>"
      ]
     },
     "metadata": {},
     "output_type": "display_data"
    }
   ],
   "source": [
    "#Feature Ranking Via Correlation\n",
    "feature_scores = np.empty((23))\n",
    "\n",
    "for i in range(0,23):\n",
    "\n",
    "    column = X[:,i+1]\n",
    "    column = np.reshape(column,(30000,1))\n",
    "    response = np.reshape(Y,(30000,1))\n",
    "        \n",
    "    mean_of_response = np.mean(response)\n",
    "    mean_of_column = np.mean(column)\n",
    "\n",
    "    var_of_response = np.var(response)\n",
    "    var_of_column = np.var(column)\n",
    "\n",
    "    tilda_column = column - mean_of_column\n",
    "    tilda_response = response - mean_of_response\n",
    "\n",
    "    tilda_column_T = np.transpose(column)\n",
    "    tilda_response_T = np.transpose(response)\n",
    "\n",
    "    correlation_coeff = (np.dot(tilda_column_T,tilda_response))/\\\n",
    "        (np.sqrt(np.dot(tilda_column_T,tilda_column) + np.dot(tilda_response_T,tilda_response)))\n",
    "    \n",
    "    feature_scores[i] = correlation_coeff\n",
    "# Create an index array\n",
    "index_array = np.arange(1,24)\n",
    "\n",
    "# Plot the data\n",
    "plt.figure(figsize=(10, 6))\n",
    "plt.bar(index_array, feature_scores)\n",
    "plt.xlabel('Predictor')\n",
    "plt.ylabel('Covarince of Predictor with Y')\n",
    "plt.title('Feature Ranking Via Correlation')\n",
    "\n",
    "plt.xticks(index_array)\n",
    "\n",
    "for i, value in enumerate(feature_scores,start=1):\n",
    "    if value > 0:\n",
    "        plt.text(i, value, f'{value:.2f}', ha='center', va='bottom')\n",
    "    elif value < 0:\n",
    "        plt.text(i, value, f'{value:.2f}', ha='center', va='top')\n",
    "\n",
    "plt.grid(True)\n",
    "plt.tight_layout()\n",
    "plt.show()\n"
   ]
  },
  {
   "cell_type": "code",
   "execution_count": 314,
   "id": "1b7788bb",
   "metadata": {},
   "outputs": [],
   "source": [
    "def X_generator(main_design_matrix):\n",
    "\n",
    "    n = 30000\n",
    "    p = input(\"Enter predictor numbers: \")\n",
    "    index_lst = p.split(\",\")\n",
    "    int_lst = int_list = [int(num) for num in p]\n",
    "    print(int_list)\n",
    "\n",
    "    ones = np.ones(n)\n",
    "    ones = np.reshape(ones,(n,1))\n",
    "\n",
    "    X = ones\n",
    "\n",
    "    for i in range(len(int_list)):\n",
    "\n",
    "        X = np.column_stack((X,main_design_matrix[:,int_list[i]]))\n",
    "\n",
    "    print(X)\n",
    "    print(X.shape)\n",
    "    return X"
   ]
  },
  {
   "cell_type": "code",
   "execution_count": 316,
   "id": "0fa1e944",
   "metadata": {},
   "outputs": [
    {
     "name": "stdout",
     "output_type": "stream",
     "text": [
      "[1, 2, 3, 4]\n",
      "1234\n"
     ]
    }
   ],
   "source": [
    "X_generator(main_design_matrix)"
   ]
  },
  {
   "cell_type": "code",
   "execution_count": 162,
   "id": "94c4da8d",
   "metadata": {},
   "outputs": [
    {
     "name": "stdout",
     "output_type": "stream",
     "text": [
      "0.5773412837600842\n"
     ]
    }
   ],
   "source": [
    "#SVM f1 score\n",
    "precision_svm = 1646/(1646+797)\n",
    "recall_svm = 1646/(1646 + 1613)\n",
    "f1_score_svm = 2*((precision_svm*recall_svm)/(precision_svm+recall_svm))\n",
    "print(f1_score_svm)"
   ]
  }
 ],
 "metadata": {
  "kernelspec": {
   "display_name": "Python 3 (ipykernel)",
   "language": "python",
   "name": "python3"
  },
  "language_info": {
   "codemirror_mode": {
    "name": "ipython",
    "version": 3
   },
   "file_extension": ".py",
   "mimetype": "text/x-python",
   "name": "python",
   "nbconvert_exporter": "python",
   "pygments_lexer": "ipython3",
   "version": "3.11.7"
  },
  "toc-autonumbering": false,
  "toc-showcode": true,
  "toc-showmarkdowntxt": false
 },
 "nbformat": 4,
 "nbformat_minor": 5
}
